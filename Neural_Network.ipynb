{
 "cells": [
  {
   "cell_type": "code",
   "execution_count": 1,
   "id": "befffbc7-7f34-4cbc-8ca5-b408917ca698",
   "metadata": {},
   "outputs": [
    {
     "name": "stdout",
     "output_type": "stream",
     "text": [
      "Requirement already satisfied: category_encoders in /opt/mamba/lib/python3.11/site-packages (2.6.3)\n",
      "Requirement already satisfied: numpy>=1.14.0 in /opt/mamba/lib/python3.11/site-packages (from category_encoders) (1.26.4)\n",
      "Requirement already satisfied: scikit-learn>=0.20.0 in /opt/mamba/lib/python3.11/site-packages (from category_encoders) (1.4.1.post1)\n",
      "Requirement already satisfied: scipy>=1.0.0 in /opt/mamba/lib/python3.11/site-packages (from category_encoders) (1.12.0)\n",
      "Requirement already satisfied: statsmodels>=0.9.0 in /opt/mamba/lib/python3.11/site-packages (from category_encoders) (0.14.1)\n",
      "Requirement already satisfied: pandas>=1.0.5 in /opt/mamba/lib/python3.11/site-packages (from category_encoders) (2.2.1)\n",
      "Requirement already satisfied: patsy>=0.5.1 in /opt/mamba/lib/python3.11/site-packages (from category_encoders) (0.5.6)\n",
      "Requirement already satisfied: python-dateutil>=2.8.2 in /opt/mamba/lib/python3.11/site-packages (from pandas>=1.0.5->category_encoders) (2.9.0)\n",
      "Requirement already satisfied: pytz>=2020.1 in /opt/mamba/lib/python3.11/site-packages (from pandas>=1.0.5->category_encoders) (2024.1)\n",
      "Requirement already satisfied: tzdata>=2022.7 in /opt/mamba/lib/python3.11/site-packages (from pandas>=1.0.5->category_encoders) (2024.1)\n",
      "Requirement already satisfied: six in /opt/mamba/lib/python3.11/site-packages (from patsy>=0.5.1->category_encoders) (1.16.0)\n",
      "Requirement already satisfied: joblib>=1.2.0 in /opt/mamba/lib/python3.11/site-packages (from scikit-learn>=0.20.0->category_encoders) (1.3.2)\n",
      "Requirement already satisfied: threadpoolctl>=2.0.0 in /opt/mamba/lib/python3.11/site-packages (from scikit-learn>=0.20.0->category_encoders) (3.3.0)\n",
      "Requirement already satisfied: packaging>=21.3 in /opt/mamba/lib/python3.11/site-packages (from statsmodels>=0.9.0->category_encoders) (23.2)\n",
      "Requirement already satisfied: keras in /opt/mamba/lib/python3.11/site-packages (3.0.5)\n",
      "Requirement already satisfied: absl-py in /opt/mamba/lib/python3.11/site-packages (from keras) (2.1.0)\n",
      "Requirement already satisfied: numpy in /opt/mamba/lib/python3.11/site-packages (from keras) (1.26.4)\n",
      "Requirement already satisfied: rich in /opt/mamba/lib/python3.11/site-packages (from keras) (13.7.1)\n",
      "Requirement already satisfied: namex in /opt/mamba/lib/python3.11/site-packages (from keras) (0.0.7)\n",
      "Requirement already satisfied: h5py in /opt/mamba/lib/python3.11/site-packages (from keras) (3.10.0)\n",
      "Requirement already satisfied: dm-tree in /opt/mamba/lib/python3.11/site-packages (from keras) (0.1.8)\n",
      "Requirement already satisfied: ml-dtypes in /opt/mamba/lib/python3.11/site-packages (from keras) (0.3.2)\n",
      "Requirement already satisfied: markdown-it-py>=2.2.0 in /opt/mamba/lib/python3.11/site-packages (from rich->keras) (3.0.0)\n",
      "Requirement already satisfied: pygments<3.0.0,>=2.13.0 in /opt/mamba/lib/python3.11/site-packages (from rich->keras) (2.17.2)\n",
      "Requirement already satisfied: mdurl~=0.1 in /opt/mamba/lib/python3.11/site-packages (from markdown-it-py>=2.2.0->rich->keras) (0.1.2)\n"
     ]
    },
    {
     "name": "stderr",
     "output_type": "stream",
     "text": [
      "2024-03-18 16:23:12.859781: I tensorflow/core/util/port.cc:113] oneDNN custom operations are on. You may see slightly different numerical results due to floating-point round-off errors from different computation orders. To turn them off, set the environment variable `TF_ENABLE_ONEDNN_OPTS=0`.\n",
      "2024-03-18 16:23:12.860538: I external/local_tsl/tsl/cuda/cudart_stub.cc:32] Could not find cuda drivers on your machine, GPU will not be used.\n",
      "2024-03-18 16:23:12.865196: I external/local_tsl/tsl/cuda/cudart_stub.cc:32] Could not find cuda drivers on your machine, GPU will not be used.\n",
      "2024-03-18 16:23:12.931881: I tensorflow/core/platform/cpu_feature_guard.cc:210] This TensorFlow binary is optimized to use available CPU instructions in performance-critical operations.\n",
      "To enable the following instructions: AVX2 AVX512F AVX512_VNNI FMA, in other operations, rebuild TensorFlow with the appropriate compiler flags.\n",
      "2024-03-18 16:23:13.955719: W tensorflow/compiler/tf2tensorrt/utils/py_utils.cc:38] TF-TRT Warning: Could not find TensorRT\n"
     ]
    },
    {
     "name": "stdout",
     "output_type": "stream",
     "text": [
      "Requirement already satisfied: imblearn in /opt/mamba/lib/python3.11/site-packages (0.0)\n",
      "Requirement already satisfied: imbalanced-learn in /opt/mamba/lib/python3.11/site-packages (from imblearn) (0.12.0)\n",
      "Requirement already satisfied: numpy>=1.17.3 in /opt/mamba/lib/python3.11/site-packages (from imbalanced-learn->imblearn) (1.26.4)\n",
      "Requirement already satisfied: scipy>=1.5.0 in /opt/mamba/lib/python3.11/site-packages (from imbalanced-learn->imblearn) (1.12.0)\n",
      "Requirement already satisfied: scikit-learn>=1.0.2 in /opt/mamba/lib/python3.11/site-packages (from imbalanced-learn->imblearn) (1.4.1.post1)\n",
      "Requirement already satisfied: joblib>=1.1.1 in /opt/mamba/lib/python3.11/site-packages (from imbalanced-learn->imblearn) (1.3.2)\n",
      "Requirement already satisfied: threadpoolctl>=2.0.0 in /opt/mamba/lib/python3.11/site-packages (from imbalanced-learn->imblearn) (3.3.0)\n"
     ]
    }
   ],
   "source": [
    "import pandas as pd\n",
    "import numpy as np\n",
    "from sklearn.model_selection import train_test_split\n",
    "!pip install category_encoders\n",
    "import category_encoders as ce\n",
    "!pip install keras\n",
    "import keras\n",
    "from keras import layers\n",
    "!pip install keras-tuner -q\n",
    "import keras_tuner\n",
    "from keras.models import Sequential\n",
    "from keras.layers import Dense\n",
    "from sklearn.model_selection import KFold\n",
    "from sklearn.preprocessing import OneHotEncoder, StandardScaler as sc\n",
    "import matplotlib.pyplot as plt\n",
    "%matplotlib inline\n",
    "import seaborn as sns\n",
    "from sklearn.metrics import confusion_matrix\n",
    "!pip install imblearn\n",
    "import imblearn\n",
    "from imblearn.over_sampling import SMOTENC, RandomOverSampler"
   ]
  },
  {
   "cell_type": "code",
   "execution_count": 2,
   "id": "cb65cd39-a9b7-428d-a5d0-f4a370594f65",
   "metadata": {},
   "outputs": [],
   "source": [
    "seed = 42\n",
    "epochs = 10\n",
    "\n",
    "df = pd.read_csv(\"https://minio.lab.sspcloud.fr/jbrablx/ai_insurance/raw/train.csv\")\n",
    "df.head(10)\n",
    "\n",
    "df['Vehicle_Damage'] = np.where(df['Vehicle_Damage']!= 'Yes', 1, 0)\n",
    "df['Gender'] = np.where(df['Gender']!= 'Male', 1, 0)\n",
    "cats = ['< 1 Year', '1-2 Year', '> 2 Years']\n",
    "df['Vehicle_Age'] = pd.Categorical(df['Vehicle_Age'],ordered=True, categories=cats)\n",
    "\n",
    "x = df.drop(['Response', 'id'], axis=1)\n",
    "y = df[['Response']]\n",
    "\n",
    "encoder = ce.OrdinalEncoder(cols=['Vehicle_Age'])\n",
    "x = encoder.fit_transform(x)\n",
    "\n",
    "#y = np.reshape(y, y.size)\n",
    " \n",
    "x_train, x_test, y_train, y_test = train_test_split(x, y, test_size=0.2, stratify=y, random_state=seed)\n",
    "\n",
    "scaler=sc()\n",
    "x_train=scaler.fit_transform(x_train)\n",
    "x_test=scaler.fit_transform(x_test)"
   ]
  },
  {
   "cell_type": "code",
   "execution_count": 3,
   "id": "ef2aeb05-ee12-493b-a6ad-6ebccad5963f",
   "metadata": {},
   "outputs": [
    {
     "name": "stdout",
     "output_type": "stream",
     "text": [
      "CLASSWEIGHTS\n",
      "--------\n",
      "Weight for class 0: 0.57\n",
      " Weight for class 1: 4.08\n"
     ]
    }
   ],
   "source": [
    "method = \"WEIGHTS\"\n",
    "if method == \"SMOTE\":\n",
    "    print(\"SMOTE\")\n",
    "    print(\"--------\")\n",
    "    cat_features = ['Gender', 'Driving_License', 'Region_Code', 'Previously_Insured', 'Vehicle_Damage', 'Policy_Sales_Channel', 'Vehicle_Age']\n",
    "    smote = SMOTENC(random_state=seed, k_neighbors=15, categorical_features=cat_features)\n",
    "    x_train, y_train = smote.fit_resample(x_train, y_train)\n",
    "\n",
    "elif method == \"OVER\":\n",
    "    print(\"RandomOverSampler\")\n",
    "    print(\"--------\")\n",
    "    rs = RandomOverSampler(random_state=seed)\n",
    "    x_train, y_train = rs.fit_resample(x_train, y_train)\n",
    "\n",
    "elif method == \"WEIGHTS\" :\n",
    "    print(\"CLASSWEIGHTS\")\n",
    "    print(\"--------\")\n",
    "    neg, pos = np.bincount(np.reshape(y_train, y_train.size))\n",
    "    # Scaling by total/2 helps keep the loss to a similar magnitude.\n",
    "    # The sum of the weights of all stays the same.\n",
    "    weight_for_0 = (1 / neg)*(neg+pos)/2.0 \n",
    "    weight_for_1 = (1 / pos)*(neg+pos)/2.0\n",
    "    class_weights = {0: weight_for_0, 1: weight_for_1}\n",
    "    print('Weight for class 0: {:.2f}\\n'.format(weight_for_0),\n",
    "          'Weight for class 1: {:.2f}'.format(weight_for_1))\n",
    "else:\n",
    "    class_weights = None"
   ]
  },
  {
   "cell_type": "code",
   "execution_count": 4,
   "id": "c8c30e09-e785-4d97-8a47-fb626e64ade8",
   "metadata": {},
   "outputs": [],
   "source": [
    "x_val, x_train, y_val, y_train = train_test_split(x_train, y_train, test_size=0.8, stratify=y_train, random_state=seed)\n",
    "\n",
    "x_val_train, x_val_test, y_val_train, y_val_test = train_test_split(x_val, y_val, test_size=0.2, stratify=y_val, random_state=seed)\n"
   ]
  },
  {
   "cell_type": "markdown",
   "id": "11d860ec-ca07-4e91-9062-ea75fa4b8ca0",
   "metadata": {},
   "source": [
    "### Determining the best hyperparameters for the first neural network"
   ]
  },
  {
   "cell_type": "code",
   "execution_count": 5,
   "id": "1cf8a78e-f490-439b-a28b-0efbc4fe38a4",
   "metadata": {},
   "outputs": [
    {
     "name": "stderr",
     "output_type": "stream",
     "text": [
      "/opt/mamba/lib/python3.11/site-packages/keras/src/layers/core/dense.py:85: UserWarning: Do not pass an `input_shape`/`input_dim` argument to a layer. When using Sequential models, prefer using an `Input(shape)` object as the first layer in the model instead.\n",
      "  super().__init__(activity_regularizer=activity_regularizer, **kwargs)\n"
     ]
    },
    {
     "data": {
      "text/plain": [
       "<Sequential name=sequential, built=True>"
      ]
     },
     "execution_count": 5,
     "metadata": {},
     "output_type": "execute_result"
    }
   ],
   "source": [
    "def call_existing_code_1(units, dropout, lr):\n",
    "    model = keras.Sequential()\n",
    "    model.add(layers.Dense(units=units, activation='relu', input_dim = 10))\n",
    "    if dropout:\n",
    "        model.add(layers.Dropout(rate=0.25))\n",
    "    model.add(layers.Dense(1, activation=\"sigmoid\"))\n",
    "    model.compile(\n",
    "        optimizer=keras.optimizers.Adam(learning_rate=lr),\n",
    "        loss=\"binary_crossentropy\",\n",
    "        metrics=[\"f1_score\"],\n",
    "    )\n",
    "    return model\n",
    "\n",
    "def build_model_1(hp):\n",
    "    units = hp.Int(\"units\", min_value=32, max_value=512, step=32)\n",
    "    dropout = hp.Boolean(\"dropout\")\n",
    "    lr = hp.Float(\"lr\", min_value=1e-4, max_value=1e-2, sampling=\"log\")\n",
    "    # call existing model-building code with the hyperparameter values.\n",
    "    model = call_existing_code_1(\n",
    "        units=units, dropout=dropout, lr=lr\n",
    "    )\n",
    "    return model\n",
    "\n",
    "\n",
    "build_model_1(keras_tuner.HyperParameters())"
   ]
  },
  {
   "cell_type": "code",
   "execution_count": 6,
   "id": "f14521ef-b8ab-43ad-878c-f748321deb82",
   "metadata": {},
   "outputs": [
    {
     "name": "stdout",
     "output_type": "stream",
     "text": [
      "Trial 10 Complete [00h 00m 23s]\n",
      "f1_score: 0.21837104856967926\n",
      "\n",
      "Best f1_score So Far: 0.21837104856967926\n",
      "Total elapsed time: 00h 04m 44s\n",
      "Results summary\n",
      "Results in my_dir_1/helloworld_1\n",
      "Showing 10 best trials\n",
      "Objective(name=\"f1_score\", direction=\"min\")\n",
      "\n",
      "Trial 00 summary\n",
      "Hyperparameters:\n",
      "units: 256\n",
      "dropout: True\n",
      "lr: 0.00023669525078715348\n",
      "Score: 0.21837104856967926\n",
      "\n",
      "Trial 01 summary\n",
      "Hyperparameters:\n",
      "units: 512\n",
      "dropout: False\n",
      "lr: 0.0025510751612212845\n",
      "Score: 0.21837104856967926\n",
      "\n",
      "Trial 02 summary\n",
      "Hyperparameters:\n",
      "units: 384\n",
      "dropout: True\n",
      "lr: 0.0010988954047943937\n",
      "Score: 0.21837104856967926\n",
      "\n",
      "Trial 03 summary\n",
      "Hyperparameters:\n",
      "units: 352\n",
      "dropout: False\n",
      "lr: 0.004545416702014981\n",
      "Score: 0.21837104856967926\n",
      "\n",
      "Trial 04 summary\n",
      "Hyperparameters:\n",
      "units: 256\n",
      "dropout: True\n",
      "lr: 0.0012663755014812239\n",
      "Score: 0.21837104856967926\n",
      "\n",
      "Trial 05 summary\n",
      "Hyperparameters:\n",
      "units: 192\n",
      "dropout: False\n",
      "lr: 0.0025783877510808387\n",
      "Score: 0.21837104856967926\n",
      "\n",
      "Trial 06 summary\n",
      "Hyperparameters:\n",
      "units: 384\n",
      "dropout: False\n",
      "lr: 0.008212458838617381\n",
      "Score: 0.21837104856967926\n",
      "\n",
      "Trial 07 summary\n",
      "Hyperparameters:\n",
      "units: 96\n",
      "dropout: False\n",
      "lr: 0.0003379886371533295\n",
      "Score: 0.21837104856967926\n",
      "\n",
      "Trial 08 summary\n",
      "Hyperparameters:\n",
      "units: 288\n",
      "dropout: False\n",
      "lr: 0.0002547058830536625\n",
      "Score: 0.21837104856967926\n",
      "\n",
      "Trial 09 summary\n",
      "Hyperparameters:\n",
      "units: 480\n",
      "dropout: False\n",
      "lr: 0.001030132438265666\n",
      "Score: 0.21837104856967926\n"
     ]
    }
   ],
   "source": [
    "tuner = keras_tuner.RandomSearch(\n",
    "    hypermodel=build_model_1,\n",
    "    objective=\"f1_score\",\n",
    "    max_trials=10,\n",
    "    executions_per_trial=2,\n",
    "    overwrite=True,\n",
    "    directory=\"my_dir_1\",\n",
    "    project_name=\"helloworld_1\",\n",
    ")\n",
    "\n",
    "tuner.search_space_summary()\n",
    "\n",
    "tuner.search(x_val_train, y_val_train, epochs=epochs, batch_size = 100, validation_data=(x_val_test, y_val_test))\n",
    "\n",
    "tuner.results_summary()\n",
    "\n",
    "best_hps = tuner.get_best_hyperparameters(5)\n",
    "model_1 = build_model_1(best_hps[0])\n"
   ]
  },
  {
   "cell_type": "code",
   "execution_count": 8,
   "id": "3beff21c-4159-4a43-8b9a-f6ca7a77dbf2",
   "metadata": {},
   "outputs": [
    {
     "data": {
      "text/plain": [
       "<Sequential name=sequential_2, built=True>"
      ]
     },
     "execution_count": 8,
     "metadata": {},
     "output_type": "execute_result"
    }
   ],
   "source": [
    "def call_existing_code_2(units_1, units_2, units_3, lr):\n",
    "    model = keras.Sequential()\n",
    "    model.add(keras.Input(shape=(10,)))\n",
    "    model.add(keras.layers.Dense(units_1, activation='relu')) #Adds a dense layer with 128 neurons and a ReLU activation function.\n",
    "    model.add(keras.layers.Dense(units_2, activation='relu')) #Adds a second dense layer with 128 neurons and a ReLU activation function.\n",
    "    model.add(keras.layers.Dense(units_3, activation='relu')) #Adds a third dense layer with 32 neurons and a ReLU activation function.\n",
    "    model.add(keras.layers.Dense(1, activation='sigmoid')) #Add an output layer with 1 neuron and a sigmoid activation function.\n",
    "    model.compile(\n",
    "        optimizer=keras.optimizers.SGD(learning_rate=lr), \n",
    "        loss=keras.losses.BinaryCrossentropy(), \n",
    "        metrics=['f1_score'])\n",
    "    return model\n",
    "\n",
    "def build_model_2(hp):\n",
    "    units_1 = hp.Int(\"units\", min_value=32, max_value=512, step=32)\n",
    "    units_2 = hp.Int(\"units\", min_value=32, max_value=512, step=32)\n",
    "    units_3 = hp.Int(\"units\", min_value=32, max_value=512, step=32)\n",
    "    lr = hp.Float(\"lr\", min_value=1e-4, max_value=1e-2, sampling=\"log\")\n",
    "    # call existing model-building code with the hyperparameter values.\n",
    "    model = call_existing_code_2(\n",
    "        units_1=units_1, units_2=units_2, units_3=units_3, lr=lr\n",
    "    )\n",
    "    return model\n",
    "\n",
    "\n",
    "build_model_2(keras_tuner.HyperParameters())\n"
   ]
  },
  {
   "cell_type": "code",
   "execution_count": 9,
   "id": "6fa8a9d2-cd39-4cce-bbc3-b40eac116727",
   "metadata": {},
   "outputs": [
    {
     "name": "stdout",
     "output_type": "stream",
     "text": [
      "Trial 10 Complete [00h 01m 11s]\n",
      "f1_score: 0.21837104856967926\n",
      "\n",
      "Best f1_score So Far: 0.21837104856967926\n",
      "Total elapsed time: 00h 07m 25s\n",
      "Results summary\n",
      "Results in my_dir_2/helloworld_2\n",
      "Showing 10 best trials\n",
      "Objective(name=\"f1_score\", direction=\"min\")\n",
      "\n",
      "Trial 00 summary\n",
      "Hyperparameters:\n",
      "units: 128\n",
      "lr: 0.00038747292328016573\n",
      "Score: 0.21837104856967926\n",
      "\n",
      "Trial 01 summary\n",
      "Hyperparameters:\n",
      "units: 416\n",
      "lr: 0.000723051095080521\n",
      "Score: 0.21837104856967926\n",
      "\n",
      "Trial 02 summary\n",
      "Hyperparameters:\n",
      "units: 32\n",
      "lr: 0.0013203367674065015\n",
      "Score: 0.21837104856967926\n",
      "\n",
      "Trial 03 summary\n",
      "Hyperparameters:\n",
      "units: 32\n",
      "lr: 0.00014639201336952797\n",
      "Score: 0.21837104856967926\n",
      "\n",
      "Trial 04 summary\n",
      "Hyperparameters:\n",
      "units: 128\n",
      "lr: 0.004806489177337456\n",
      "Score: 0.21837104856967926\n",
      "\n",
      "Trial 05 summary\n",
      "Hyperparameters:\n",
      "units: 416\n",
      "lr: 0.002770285640257412\n",
      "Score: 0.21837104856967926\n",
      "\n",
      "Trial 06 summary\n",
      "Hyperparameters:\n",
      "units: 160\n",
      "lr: 0.00359800375100564\n",
      "Score: 0.21837104856967926\n",
      "\n",
      "Trial 07 summary\n",
      "Hyperparameters:\n",
      "units: 96\n",
      "lr: 0.00019601303117356097\n",
      "Score: 0.21837104856967926\n",
      "\n",
      "Trial 08 summary\n",
      "Hyperparameters:\n",
      "units: 224\n",
      "lr: 0.0035576180732357536\n",
      "Score: 0.21837104856967926\n",
      "\n",
      "Trial 09 summary\n",
      "Hyperparameters:\n",
      "units: 416\n",
      "lr: 0.0006183930099784303\n",
      "Score: 0.21837104856967926\n"
     ]
    }
   ],
   "source": [
    "tuner = keras_tuner.RandomSearch(\n",
    "    hypermodel=build_model_2,\n",
    "    objective=\"f1_score\",\n",
    "    max_trials=10,\n",
    "    executions_per_trial=2,\n",
    "    overwrite=True,\n",
    "    directory=\"my_dir_2\",\n",
    "    project_name=\"helloworld_2\",\n",
    ")\n",
    "\n",
    "tuner.search_space_summary()\n",
    "\n",
    "tuner.search(x_val_train, y_val_train, epochs=epochs, batch_size = 100, validation_data=(x_val_test, y_val_test))\n",
    "\n",
    "tuner.results_summary()\n",
    "\n",
    "best_hps = tuner.get_best_hyperparameters(5)\n",
    "model_2 = build_model_2(best_hps[0])"
   ]
  },
  {
   "cell_type": "markdown",
   "id": "a1b3a8e7-d7d3-4fc9-9281-772c8f8c7b2c",
   "metadata": {},
   "source": [
    "### Cross-Validation"
   ]
  },
  {
   "cell_type": "code",
   "execution_count": 12,
   "id": "54115faa-99d0-4568-82ed-430f1d27c024",
   "metadata": {},
   "outputs": [
    {
     "data": {
      "text/html": [
       "<pre style=\"white-space:pre;overflow-x:auto;line-height:normal;font-family:Menlo,'DejaVu Sans Mono',consolas,'Courier New',monospace\"><span style=\"font-weight: bold\">Model: \"sequential_1\"</span>\n",
       "</pre>\n"
      ],
      "text/plain": [
       "\u001b[1mModel: \"sequential_1\"\u001b[0m\n"
      ]
     },
     "metadata": {},
     "output_type": "display_data"
    },
    {
     "data": {
      "text/html": [
       "<pre style=\"white-space:pre;overflow-x:auto;line-height:normal;font-family:Menlo,'DejaVu Sans Mono',consolas,'Courier New',monospace\">┏━━━━━━━━━━━━━━━━━━━━━━━━━━━━━━━━━┳━━━━━━━━━━━━━━━━━━━━━━━━┳━━━━━━━━━━━━━━━┓\n",
       "┃<span style=\"font-weight: bold\"> Layer (type)                    </span>┃<span style=\"font-weight: bold\"> Output Shape           </span>┃<span style=\"font-weight: bold\">       Param # </span>┃\n",
       "┡━━━━━━━━━━━━━━━━━━━━━━━━━━━━━━━━━╇━━━━━━━━━━━━━━━━━━━━━━━━╇━━━━━━━━━━━━━━━┩\n",
       "│ dense_4 (<span style=\"color: #0087ff; text-decoration-color: #0087ff\">Dense</span>)                 │ (<span style=\"color: #00d7ff; text-decoration-color: #00d7ff\">None</span>, <span style=\"color: #00af00; text-decoration-color: #00af00\">128</span>)            │         <span style=\"color: #00af00; text-decoration-color: #00af00\">1,408</span> │\n",
       "├─────────────────────────────────┼────────────────────────┼───────────────┤\n",
       "│ dense_5 (<span style=\"color: #0087ff; text-decoration-color: #0087ff\">Dense</span>)                 │ (<span style=\"color: #00d7ff; text-decoration-color: #00d7ff\">None</span>, <span style=\"color: #00af00; text-decoration-color: #00af00\">128</span>)            │        <span style=\"color: #00af00; text-decoration-color: #00af00\">16,512</span> │\n",
       "├─────────────────────────────────┼────────────────────────┼───────────────┤\n",
       "│ dense_6 (<span style=\"color: #0087ff; text-decoration-color: #0087ff\">Dense</span>)                 │ (<span style=\"color: #00d7ff; text-decoration-color: #00d7ff\">None</span>, <span style=\"color: #00af00; text-decoration-color: #00af00\">128</span>)            │        <span style=\"color: #00af00; text-decoration-color: #00af00\">16,512</span> │\n",
       "├─────────────────────────────────┼────────────────────────┼───────────────┤\n",
       "│ dense_7 (<span style=\"color: #0087ff; text-decoration-color: #0087ff\">Dense</span>)                 │ (<span style=\"color: #00d7ff; text-decoration-color: #00d7ff\">None</span>, <span style=\"color: #00af00; text-decoration-color: #00af00\">1</span>)              │           <span style=\"color: #00af00; text-decoration-color: #00af00\">129</span> │\n",
       "└─────────────────────────────────┴────────────────────────┴───────────────┘\n",
       "</pre>\n"
      ],
      "text/plain": [
       "┏━━━━━━━━━━━━━━━━━━━━━━━━━━━━━━━━━┳━━━━━━━━━━━━━━━━━━━━━━━━┳━━━━━━━━━━━━━━━┓\n",
       "┃\u001b[1m \u001b[0m\u001b[1mLayer (type)                   \u001b[0m\u001b[1m \u001b[0m┃\u001b[1m \u001b[0m\u001b[1mOutput Shape          \u001b[0m\u001b[1m \u001b[0m┃\u001b[1m \u001b[0m\u001b[1m      Param #\u001b[0m\u001b[1m \u001b[0m┃\n",
       "┡━━━━━━━━━━━━━━━━━━━━━━━━━━━━━━━━━╇━━━━━━━━━━━━━━━━━━━━━━━━╇━━━━━━━━━━━━━━━┩\n",
       "│ dense_4 (\u001b[38;5;33mDense\u001b[0m)                 │ (\u001b[38;5;45mNone\u001b[0m, \u001b[38;5;34m128\u001b[0m)            │         \u001b[38;5;34m1,408\u001b[0m │\n",
       "├─────────────────────────────────┼────────────────────────┼───────────────┤\n",
       "│ dense_5 (\u001b[38;5;33mDense\u001b[0m)                 │ (\u001b[38;5;45mNone\u001b[0m, \u001b[38;5;34m128\u001b[0m)            │        \u001b[38;5;34m16,512\u001b[0m │\n",
       "├─────────────────────────────────┼────────────────────────┼───────────────┤\n",
       "│ dense_6 (\u001b[38;5;33mDense\u001b[0m)                 │ (\u001b[38;5;45mNone\u001b[0m, \u001b[38;5;34m128\u001b[0m)            │        \u001b[38;5;34m16,512\u001b[0m │\n",
       "├─────────────────────────────────┼────────────────────────┼───────────────┤\n",
       "│ dense_7 (\u001b[38;5;33mDense\u001b[0m)                 │ (\u001b[38;5;45mNone\u001b[0m, \u001b[38;5;34m1\u001b[0m)              │           \u001b[38;5;34m129\u001b[0m │\n",
       "└─────────────────────────────────┴────────────────────────┴───────────────┘\n"
      ]
     },
     "metadata": {},
     "output_type": "display_data"
    },
    {
     "data": {
      "text/html": [
       "<pre style=\"white-space:pre;overflow-x:auto;line-height:normal;font-family:Menlo,'DejaVu Sans Mono',consolas,'Courier New',monospace\"><span style=\"font-weight: bold\"> Total params: </span><span style=\"color: #00af00; text-decoration-color: #00af00\">34,561</span> (135.00 KB)\n",
       "</pre>\n"
      ],
      "text/plain": [
       "\u001b[1m Total params: \u001b[0m\u001b[38;5;34m34,561\u001b[0m (135.00 KB)\n"
      ]
     },
     "metadata": {},
     "output_type": "display_data"
    },
    {
     "data": {
      "text/html": [
       "<pre style=\"white-space:pre;overflow-x:auto;line-height:normal;font-family:Menlo,'DejaVu Sans Mono',consolas,'Courier New',monospace\"><span style=\"font-weight: bold\"> Trainable params: </span><span style=\"color: #00af00; text-decoration-color: #00af00\">34,561</span> (135.00 KB)\n",
       "</pre>\n"
      ],
      "text/plain": [
       "\u001b[1m Trainable params: \u001b[0m\u001b[38;5;34m34,561\u001b[0m (135.00 KB)\n"
      ]
     },
     "metadata": {},
     "output_type": "display_data"
    },
    {
     "data": {
      "text/html": [
       "<pre style=\"white-space:pre;overflow-x:auto;line-height:normal;font-family:Menlo,'DejaVu Sans Mono',consolas,'Courier New',monospace\"><span style=\"font-weight: bold\"> Non-trainable params: </span><span style=\"color: #00af00; text-decoration-color: #00af00\">0</span> (0.00 B)\n",
       "</pre>\n"
      ],
      "text/plain": [
       "\u001b[1m Non-trainable params: \u001b[0m\u001b[38;5;34m0\u001b[0m (0.00 B)\n"
      ]
     },
     "metadata": {},
     "output_type": "display_data"
    },
    {
     "name": "stdout",
     "output_type": "stream",
     "text": [
      "Epoch 1/10\n",
      "\u001b[1m1830/1830\u001b[0m \u001b[32m━━━━━━━━━━━━━━━━━━━━\u001b[0m\u001b[37m\u001b[0m \u001b[1m5s\u001b[0m 2ms/step - f1_score: 0.2164 - loss: 0.6890\n",
      "Epoch 2/10\n",
      "\u001b[1m1830/1830\u001b[0m \u001b[32m━━━━━━━━━━━━━━━━━━━━\u001b[0m\u001b[37m\u001b[0m \u001b[1m3s\u001b[0m 2ms/step - f1_score: 0.2196 - loss: 0.6534\n",
      "Epoch 3/10\n",
      "\u001b[1m1830/1830\u001b[0m \u001b[32m━━━━━━━━━━━━━━━━━━━━\u001b[0m\u001b[37m\u001b[0m \u001b[1m4s\u001b[0m 2ms/step - f1_score: 0.2178 - loss: 0.6110\n",
      "Epoch 4/10\n",
      "\u001b[1m1830/1830\u001b[0m \u001b[32m━━━━━━━━━━━━━━━━━━━━\u001b[0m\u001b[37m\u001b[0m \u001b[1m4s\u001b[0m 2ms/step - f1_score: 0.2168 - loss: 0.5697\n",
      "Epoch 5/10\n",
      "\u001b[1m1830/1830\u001b[0m \u001b[32m━━━━━━━━━━━━━━━━━━━━\u001b[0m\u001b[37m\u001b[0m \u001b[1m4s\u001b[0m 2ms/step - f1_score: 0.2189 - loss: 0.5346\n",
      "Epoch 6/10\n",
      "\u001b[1m1830/1830\u001b[0m \u001b[32m━━━━━━━━━━━━━━━━━━━━\u001b[0m\u001b[37m\u001b[0m \u001b[1m4s\u001b[0m 2ms/step - f1_score: 0.2179 - loss: 0.5045\n",
      "Epoch 7/10\n",
      "\u001b[1m1830/1830\u001b[0m \u001b[32m━━━━━━━━━━━━━━━━━━━━\u001b[0m\u001b[37m\u001b[0m \u001b[1m4s\u001b[0m 2ms/step - f1_score: 0.2185 - loss: 0.4851\n",
      "Epoch 8/10\n",
      "\u001b[1m1830/1830\u001b[0m \u001b[32m━━━━━━━━━━━━━━━━━━━━\u001b[0m\u001b[37m\u001b[0m \u001b[1m5s\u001b[0m 3ms/step - f1_score: 0.2172 - loss: 0.4718\n",
      "Epoch 9/10\n",
      "\u001b[1m1830/1830\u001b[0m \u001b[32m━━━━━━━━━━━━━━━━━━━━\u001b[0m\u001b[37m\u001b[0m \u001b[1m5s\u001b[0m 3ms/step - f1_score: 0.2199 - loss: 0.4645\n",
      "Epoch 10/10\n",
      "\u001b[1m1830/1830\u001b[0m \u001b[32m━━━━━━━━━━━━━━━━━━━━\u001b[0m\u001b[37m\u001b[0m \u001b[1m5s\u001b[0m 3ms/step - f1_score: 0.2176 - loss: 0.4576\n",
      "\u001b[1m1906/1906\u001b[0m \u001b[32m━━━━━━━━━━━━━━━━━━━━\u001b[0m\u001b[37m\u001b[0m \u001b[1m3s\u001b[0m 1ms/step - f1_score: 0.2195 - loss: 0.4996\n"
     ]
    },
    {
     "data": {
      "image/png": "[encoded data removed]",
      "text/plain": [
       "<Figure size 640x480 with 1 Axes>"
      ]
     },
     "metadata": {},
     "output_type": "display_data"
    },
    {
     "name": "stdout",
     "output_type": "stream",
     "text": [
      "Epoch 1/10\n",
      "\u001b[1m1830/1830\u001b[0m \u001b[32m━━━━━━━━━━━━━━━━━━━━\u001b[0m\u001b[37m\u001b[0m \u001b[1m5s\u001b[0m 3ms/step - f1_score: 0.2187 - loss: 0.4524\n",
      "Epoch 2/10\n",
      "\u001b[1m1830/1830\u001b[0m \u001b[32m━━━━━━━━━━━━━━━━━━━━\u001b[0m\u001b[37m\u001b[0m \u001b[1m5s\u001b[0m 3ms/step - f1_score: 0.2196 - loss: 0.4499\n",
      "Epoch 3/10\n",
      "\u001b[1m1830/1830\u001b[0m \u001b[32m━━━━━━━━━━━━━━━━━━━━\u001b[0m\u001b[37m\u001b[0m \u001b[1m4s\u001b[0m 2ms/step - f1_score: 0.2198 - loss: 0.4471\n",
      "Epoch 4/10\n",
      "\u001b[1m1830/1830\u001b[0m \u001b[32m━━━━━━━━━━━━━━━━━━━━\u001b[0m\u001b[37m\u001b[0m \u001b[1m5s\u001b[0m 2ms/step - f1_score: 0.2182 - loss: 0.4393\n",
      "Epoch 5/10\n",
      "\u001b[1m1830/1830\u001b[0m \u001b[32m━━━━━━━━━━━━━━━━━━━━\u001b[0m\u001b[37m\u001b[0m \u001b[1m5s\u001b[0m 3ms/step - f1_score: 0.2192 - loss: 0.4412\n",
      "Epoch 6/10\n",
      "\u001b[1m1830/1830\u001b[0m \u001b[32m━━━━━━━━━━━━━━━━━━━━\u001b[0m\u001b[37m\u001b[0m \u001b[1m5s\u001b[0m 3ms/step - f1_score: 0.2165 - loss: 0.4388\n",
      "Epoch 7/10\n",
      "\u001b[1m1830/1830\u001b[0m \u001b[32m━━━━━━━━━━━━━━━━━━━━\u001b[0m\u001b[37m\u001b[0m \u001b[1m5s\u001b[0m 3ms/step - f1_score: 0.2179 - loss: 0.4403\n",
      "Epoch 8/10\n",
      "\u001b[1m1830/1830\u001b[0m \u001b[32m━━━━━━━━━━━━━━━━━━━━\u001b[0m\u001b[37m\u001b[0m \u001b[1m4s\u001b[0m 2ms/step - f1_score: 0.2189 - loss: 0.4384\n",
      "Epoch 9/10\n",
      "\u001b[1m1830/1830\u001b[0m \u001b[32m━━━━━━━━━━━━━━━━━━━━\u001b[0m\u001b[37m\u001b[0m \u001b[1m5s\u001b[0m 3ms/step - f1_score: 0.2182 - loss: 0.4366\n",
      "Epoch 10/10\n",
      "\u001b[1m1830/1830\u001b[0m \u001b[32m━━━━━━━━━━━━━━━━━━━━\u001b[0m\u001b[37m\u001b[0m \u001b[1m5s\u001b[0m 3ms/step - f1_score: 0.2191 - loss: 0.4358\n",
      "\u001b[1m1906/1906\u001b[0m \u001b[32m━━━━━━━━━━━━━━━━━━━━\u001b[0m\u001b[37m\u001b[0m \u001b[1m3s\u001b[0m 1ms/step - f1_score: 0.2219 - loss: 0.4784\n"
     ]
    },
    {
     "data": {
      "image/png": "[encoded data removed]",
      "text/plain": [
       "<Figure size 640x480 with 1 Axes>"
      ]
     },
     "metadata": {},
     "output_type": "display_data"
    },
    {
     "name": "stdout",
     "output_type": "stream",
     "text": [
      "Epoch 1/10\n",
      "\u001b[1m1830/1830\u001b[0m \u001b[32m━━━━━━━━━━━━━━━━━━━━\u001b[0m\u001b[37m\u001b[0m \u001b[1m5s\u001b[0m 3ms/step - f1_score: 0.2174 - loss: 0.4366\n",
      "Epoch 2/10\n",
      "\u001b[1m1830/1830\u001b[0m \u001b[32m━━━━━━━━━━━━━━━━━━━━\u001b[0m\u001b[37m\u001b[0m \u001b[1m5s\u001b[0m 3ms/step - f1_score: 0.2177 - loss: 0.4366\n",
      "Epoch 3/10\n",
      "\u001b[1m1830/1830\u001b[0m \u001b[32m━━━━━━━━━━━━━━━━━━━━\u001b[0m\u001b[37m\u001b[0m \u001b[1m5s\u001b[0m 3ms/step - f1_score: 0.2190 - loss: 0.4387\n",
      "Epoch 4/10\n",
      "\u001b[1m1830/1830\u001b[0m \u001b[32m━━━━━━━━━━━━━━━━━━━━\u001b[0m\u001b[37m\u001b[0m \u001b[1m5s\u001b[0m 3ms/step - f1_score: 0.2199 - loss: 0.4390\n",
      "Epoch 5/10\n",
      "\u001b[1m1830/1830\u001b[0m \u001b[32m━━━━━━━━━━━━━━━━━━━━\u001b[0m\u001b[37m\u001b[0m \u001b[1m5s\u001b[0m 3ms/step - f1_score: 0.2197 - loss: 0.4365\n",
      "Epoch 6/10\n",
      "\u001b[1m1830/1830\u001b[0m \u001b[32m━━━━━━━━━━━━━━━━━━━━\u001b[0m\u001b[37m\u001b[0m \u001b[1m5s\u001b[0m 3ms/step - f1_score: 0.2185 - loss: 0.4355\n",
      "Epoch 7/10\n",
      "\u001b[1m1830/1830\u001b[0m \u001b[32m━━━━━━━━━━━━━━━━━━━━\u001b[0m\u001b[37m\u001b[0m \u001b[1m5s\u001b[0m 3ms/step - f1_score: 0.2178 - loss: 0.4346\n",
      "Epoch 8/10\n",
      "\u001b[1m1830/1830\u001b[0m \u001b[32m━━━━━━━━━━━━━━━━━━━━\u001b[0m\u001b[37m\u001b[0m \u001b[1m5s\u001b[0m 3ms/step - f1_score: 0.2186 - loss: 0.4352\n",
      "Epoch 9/10\n",
      "\u001b[1m1830/1830\u001b[0m \u001b[32m━━━━━━━━━━━━━━━━━━━━\u001b[0m\u001b[37m\u001b[0m \u001b[1m5s\u001b[0m 3ms/step - f1_score: 0.2182 - loss: 0.4352\n",
      "Epoch 10/10\n",
      "\u001b[1m1830/1830\u001b[0m \u001b[32m━━━━━━━━━━━━━━━━━━━━\u001b[0m\u001b[37m\u001b[0m \u001b[1m5s\u001b[0m 3ms/step - f1_score: 0.2167 - loss: 0.4337\n",
      "\u001b[1m1906/1906\u001b[0m \u001b[32m━━━━━━━━━━━━━━━━━━━━\u001b[0m\u001b[37m\u001b[0m \u001b[1m3s\u001b[0m 1ms/step - f1_score: 0.2178 - loss: 0.4810\n"
     ]
    },
    {
     "data": {
      "image/png": "[encoded data removed]",
      "text/plain": [
       "<Figure size 640x480 with 1 Axes>"
      ]
     },
     "metadata": {},
     "output_type": "display_data"
    },
    {
     "name": "stdout",
     "output_type": "stream",
     "text": [
      "Epoch 1/10\n",
      "\u001b[1m1830/1830\u001b[0m \u001b[32m━━━━━━━━━━━━━━━━━━━━\u001b[0m\u001b[37m\u001b[0m \u001b[1m5s\u001b[0m 3ms/step - f1_score: 0.2215 - loss: 0.4354\n",
      "Epoch 2/10\n",
      "\u001b[1m1830/1830\u001b[0m \u001b[32m━━━━━━━━━━━━━━━━━━━━\u001b[0m\u001b[37m\u001b[0m \u001b[1m5s\u001b[0m 3ms/step - f1_score: 0.2186 - loss: 0.4340\n",
      "Epoch 3/10\n",
      "\u001b[1m1830/1830\u001b[0m \u001b[32m━━━━━━━━━━━━━━━━━━━━\u001b[0m\u001b[37m\u001b[0m \u001b[1m5s\u001b[0m 3ms/step - f1_score: 0.2184 - loss: 0.4339\n",
      "Epoch 4/10\n",
      "\u001b[1m1830/1830\u001b[0m \u001b[32m━━━━━━━━━━━━━━━━━━━━\u001b[0m\u001b[37m\u001b[0m \u001b[1m5s\u001b[0m 3ms/step - f1_score: 0.2178 - loss: 0.4333\n",
      "Epoch 5/10\n",
      "\u001b[1m1830/1830\u001b[0m \u001b[32m━━━━━━━━━━━━━━━━━━━━\u001b[0m\u001b[37m\u001b[0m \u001b[1m5s\u001b[0m 3ms/step - f1_score: 0.2176 - loss: 0.4339\n",
      "Epoch 6/10\n",
      "\u001b[1m1830/1830\u001b[0m \u001b[32m━━━━━━━━━━━━━━━━━━━━\u001b[0m\u001b[37m\u001b[0m \u001b[1m4s\u001b[0m 2ms/step - f1_score: 0.2180 - loss: 0.4320\n",
      "Epoch 7/10\n",
      "\u001b[1m1830/1830\u001b[0m \u001b[32m━━━━━━━━━━━━━━━━━━━━\u001b[0m\u001b[37m\u001b[0m \u001b[1m4s\u001b[0m 2ms/step - f1_score: 0.2187 - loss: 0.4351\n",
      "Epoch 8/10\n",
      "\u001b[1m1830/1830\u001b[0m \u001b[32m━━━━━━━━━━━━━━━━━━━━\u001b[0m\u001b[37m\u001b[0m \u001b[1m4s\u001b[0m 2ms/step - f1_score: 0.2192 - loss: 0.4325\n",
      "Epoch 9/10\n",
      "\u001b[1m1830/1830\u001b[0m \u001b[32m━━━━━━━━━━━━━━━━━━━━\u001b[0m\u001b[37m\u001b[0m \u001b[1m5s\u001b[0m 3ms/step - f1_score: 0.2190 - loss: 0.4336\n",
      "Epoch 10/10\n",
      "\u001b[1m1830/1830\u001b[0m \u001b[32m━━━━━━━━━━━━━━━━━━━━\u001b[0m\u001b[37m\u001b[0m \u001b[1m5s\u001b[0m 3ms/step - f1_score: 0.2180 - loss: 0.4336\n",
      "\u001b[1m1906/1906\u001b[0m \u001b[32m━━━━━━━━━━━━━━━━━━━━\u001b[0m\u001b[37m\u001b[0m \u001b[1m3s\u001b[0m 1ms/step - f1_score: 0.2161 - loss: 0.4800\n"
     ]
    },
    {
     "data": {
      "image/png": "[encoded data removed]",
      "text/plain": [
       "<Figure size 640x480 with 1 Axes>"
      ]
     },
     "metadata": {},
     "output_type": "display_data"
    },
    {
     "name": "stdout",
     "output_type": "stream",
     "text": [
      "Mean f1_score: 0.218 +/- 0.001\n"
     ]
    }
   ],
   "source": [
    "#x_train = x_train.to_numpy()\n",
    "#y_train = y_train.to_numpy()\n",
    "\n",
    "model = model_2\n",
    "\n",
    "kfold = KFold(n_splits = 4, shuffle=True, random_state=seed)\n",
    "\n",
    "# Initialize a list to store the scores\n",
    "scores = []\n",
    "\n",
    "model.summary()\n",
    "\n",
    "for train_index, test_index in kfold.split(x_train,y_train):\n",
    "    # Split the data into train and test sets\n",
    "    Y_train, Y_test = y_train[train_index], y_train[test_index]\n",
    "    X_train, X_test = x_train[train_index], x_train[test_index]\n",
    "\n",
    "    # Fit the model on the training data\n",
    "    history = model.fit(X_train, Y_train, epochs=epochs, batch_size=100, class_weight = class_weights)\n",
    "\n",
    "    # Evaluate the model on the test data\n",
    "    score = model.evaluate(X_test, Y_test)\n",
    "\n",
    "    # Append the score to the scores list\n",
    "    scores.append(score[1])\n",
    "    plt.plot(history.history['f1_score'])\n",
    "    plt.title('Model Training Accuracy')\n",
    "    plt.ylabel('f1_score')\n",
    "    plt.xlabel('Epoch')\n",
    "    plt.legend(['Train'], loc='upper left')\n",
    "    plt.show()\n",
    "  \n",
    "# Print the mean and standard deviation of the scores\n",
    "print(f'Mean f1_score: {np.mean(scores):.3f} +/- {np.std(scores):.3f}')"
   ]
  },
  {
   "cell_type": "markdown",
   "id": "b37fccfc-a8d6-48e5-9ac4-ee327f4ab96c",
   "metadata": {},
   "source": [
    "### Fit"
   ]
  },
  {
   "cell_type": "code",
   "execution_count": 14,
   "id": "428bd85c-63ec-473f-b2dd-ce974d650d15",
   "metadata": {},
   "outputs": [
    {
     "name": "stdout",
     "output_type": "stream",
     "text": [
      "Epoch 1/10\n",
      "\u001b[1m2440/2440\u001b[0m \u001b[32m━━━━━━━━━━━━━━━━━━━━\u001b[0m\u001b[37m\u001b[0m \u001b[1m8s\u001b[0m 3ms/step - f1_score: 0.2177 - loss: 0.4310 - val_f1_score: 0.2184 - val_loss: 0.4800\n",
      "Epoch 2/10\n",
      "\u001b[1m2440/2440\u001b[0m \u001b[32m━━━━━━━━━━━━━━━━━━━━\u001b[0m\u001b[37m\u001b[0m \u001b[1m8s\u001b[0m 3ms/step - f1_score: 0.2184 - loss: 0.4320 - val_f1_score: 0.2184 - val_loss: 0.4756\n",
      "Epoch 3/10\n",
      "\u001b[1m2440/2440\u001b[0m \u001b[32m━━━━━━━━━━━━━━━━━━━━\u001b[0m\u001b[37m\u001b[0m \u001b[1m8s\u001b[0m 3ms/step - f1_score: 0.2206 - loss: 0.4342 - val_f1_score: 0.2184 - val_loss: 0.4777\n",
      "Epoch 4/10\n",
      "\u001b[1m2440/2440\u001b[0m \u001b[32m━━━━━━━━━━━━━━━━━━━━\u001b[0m\u001b[37m\u001b[0m \u001b[1m7s\u001b[0m 3ms/step - f1_score: 0.2187 - loss: 0.4343 - val_f1_score: 0.2184 - val_loss: 0.4826\n",
      "Epoch 5/10\n",
      "\u001b[1m2440/2440\u001b[0m \u001b[32m━━━━━━━━━━━━━━━━━━━━\u001b[0m\u001b[37m\u001b[0m \u001b[1m8s\u001b[0m 3ms/step - f1_score: 0.2166 - loss: 0.4298 - val_f1_score: 0.2184 - val_loss: 0.4821\n",
      "Epoch 6/10\n",
      "\u001b[1m2440/2440\u001b[0m \u001b[32m━━━━━━━━━━━━━━━━━━━━\u001b[0m\u001b[37m\u001b[0m \u001b[1m8s\u001b[0m 3ms/step - f1_score: 0.2179 - loss: 0.4320 - val_f1_score: 0.2184 - val_loss: 0.4788\n",
      "Epoch 7/10\n",
      "\u001b[1m2440/2440\u001b[0m \u001b[32m━━━━━━━━━━━━━━━━━━━━\u001b[0m\u001b[37m\u001b[0m \u001b[1m8s\u001b[0m 3ms/step - f1_score: 0.2178 - loss: 0.4317 - val_f1_score: 0.2184 - val_loss: 0.4795\n",
      "Epoch 8/10\n",
      "\u001b[1m2440/2440\u001b[0m \u001b[32m━━━━━━━━━━━━━━━━━━━━\u001b[0m\u001b[37m\u001b[0m \u001b[1m8s\u001b[0m 3ms/step - f1_score: 0.2178 - loss: 0.4318 - val_f1_score: 0.2184 - val_loss: 0.4801\n",
      "Epoch 9/10\n",
      "\u001b[1m2440/2440\u001b[0m \u001b[32m━━━━━━━━━━━━━━━━━━━━\u001b[0m\u001b[37m\u001b[0m \u001b[1m8s\u001b[0m 3ms/step - f1_score: 0.2180 - loss: 0.4276 - val_f1_score: 0.2184 - val_loss: 0.4814\n",
      "Epoch 10/10\n",
      "\u001b[1m2440/2440\u001b[0m \u001b[32m━━━━━━━━━━━━━━━━━━━━\u001b[0m\u001b[37m\u001b[0m \u001b[1m6s\u001b[0m 3ms/step - f1_score: 0.2193 - loss: 0.4331 - val_f1_score: 0.2184 - val_loss: 0.4765\n"
     ]
    },
    {
     "data": {
      "text/plain": [
       "[]"
      ]
     },
     "execution_count": 14,
     "metadata": {},
     "output_type": "execute_result"
    },
    {
     "data": {
      "image/png": "[encoded data removed]",
      "text/plain": [
       "<Figure size 640x480 with 1 Axes>"
      ]
     },
     "metadata": {},
     "output_type": "display_data"
    }
   ],
   "source": [
    "hist = model.fit(x_train, y_train, validation_data=(x_test, y_test), epochs=epochs, batch_size=100, class_weight = class_weights)\n",
    "\n",
    "#F1 Score\n",
    "sns.set()\n",
    "acc = hist.history['f1_score']\n",
    "val = hist.history['val_f1_score']\n",
    "epochs = range(1, len(acc) + 1)\n",
    "\n",
    "plt.plot(epochs, acc, '-', label='Training accuracy')\n",
    "plt.plot(epochs, val, ':', label='Validation accuracy')\n",
    "plt.title('Training and Validation Accuracy')\n",
    "plt.xlabel('Epoch')\n",
    "plt.ylabel('Accuracy')\n",
    "plt.legend(loc='lower right')\n",
    "plt.plot()"
   ]
  },
  {
   "cell_type": "code",
   "execution_count": 15,
   "id": "52ca9654-615d-44cf-b8cc-0e4bdf0cfe31",
   "metadata": {},
   "outputs": [
    {
     "name": "stdout",
     "output_type": "stream",
     "text": [
      "\u001b[1m2382/2382\u001b[0m \u001b[32m━━━━━━━━━━━━━━━━━━━━\u001b[0m\u001b[37m\u001b[0m \u001b[1m3s\u001b[0m 1ms/step\n"
     ]
    },
    {
     "data": {
      "text/plain": [
       "Text(109.44999999999997, 0.5, 'Actual label')"
      ]
     },
     "execution_count": 15,
     "metadata": {},
     "output_type": "execute_result"
    },
    {
     "data": {
      "image/png": "[encoded data removed]",
      "text/plain": [
       "<Figure size 640x480 with 1 Axes>"
      ]
     },
     "metadata": {},
     "output_type": "display_data"
    }
   ],
   "source": [
    "#Confusion Matrix\n",
    "y_predicted = model.predict(x_test) > 0.5\n",
    "mat = confusion_matrix(y_test, y_predicted)\n",
    "labels = ['Not interested', 'Interested']\n",
    " \n",
    "sns.heatmap(mat, square=True, annot=True, fmt='d', cbar=False, cmap='Blues',\n",
    "            xticklabels=labels, yticklabels=labels)\n",
    " \n",
    "plt.xlabel('Predicted label')\n",
    "plt.ylabel('Actual label')"
   ]
  },
  {
   "cell_type": "code",
   "execution_count": null,
   "id": "2ced38fe-6b58-4fe1-9230-9eb749d6b3b9",
   "metadata": {},
   "outputs": [],
   "source": []
  }
 ],
 "metadata": {
  "kernelspec": {
   "display_name": "Python 3 (ipykernel)",
   "language": "python",
   "name": "python3"
  },
  "language_info": {
   "codemirror_mode": {
    "name": "ipython",
    "version": 3
   },
   "file_extension": ".py",
   "mimetype": "text/x-python",
   "name": "python",
   "nbconvert_exporter": "python",
   "pygments_lexer": "ipython3",
   "version": "3.11.6"
  }
 },
 "nbformat": 4,
 "nbformat_minor": 5
}
