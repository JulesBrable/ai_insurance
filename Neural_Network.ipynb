{
 "cells": [
  {
   "cell_type": "code",
   "execution_count": 1,
   "id": "befffbc7-7f34-4cbc-8ca5-b408917ca698",
   "metadata": {},
   "outputs": [
    {
     "name": "stdout",
     "output_type": "stream",
     "text": [
      "Requirement already satisfied: category_encoders in /opt/mamba/lib/python3.11/site-packages (2.6.3)\n",
      "Requirement already satisfied: numpy>=1.14.0 in /opt/mamba/lib/python3.11/site-packages (from category_encoders) (1.26.4)\n",
      "Requirement already satisfied: scikit-learn>=0.20.0 in /opt/mamba/lib/python3.11/site-packages (from category_encoders) (1.4.1.post1)\n",
      "Requirement already satisfied: scipy>=1.0.0 in /opt/mamba/lib/python3.11/site-packages (from category_encoders) (1.12.0)\n",
      "Requirement already satisfied: statsmodels>=0.9.0 in /opt/mamba/lib/python3.11/site-packages (from category_encoders) (0.14.1)\n",
      "Requirement already satisfied: pandas>=1.0.5 in /opt/mamba/lib/python3.11/site-packages (from category_encoders) (2.2.1)\n",
      "Requirement already satisfied: patsy>=0.5.1 in /opt/mamba/lib/python3.11/site-packages (from category_encoders) (0.5.6)\n",
      "Requirement already satisfied: python-dateutil>=2.8.2 in /opt/mamba/lib/python3.11/site-packages (from pandas>=1.0.5->category_encoders) (2.9.0)\n",
      "Requirement already satisfied: pytz>=2020.1 in /opt/mamba/lib/python3.11/site-packages (from pandas>=1.0.5->category_encoders) (2024.1)\n",
      "Requirement already satisfied: tzdata>=2022.7 in /opt/mamba/lib/python3.11/site-packages (from pandas>=1.0.5->category_encoders) (2024.1)\n",
      "Requirement already satisfied: six in /opt/mamba/lib/python3.11/site-packages (from patsy>=0.5.1->category_encoders) (1.16.0)\n",
      "Requirement already satisfied: joblib>=1.2.0 in /opt/mamba/lib/python3.11/site-packages (from scikit-learn>=0.20.0->category_encoders) (1.3.2)\n",
      "Requirement already satisfied: threadpoolctl>=2.0.0 in /opt/mamba/lib/python3.11/site-packages (from scikit-learn>=0.20.0->category_encoders) (3.3.0)\n",
      "Requirement already satisfied: packaging>=21.3 in /opt/mamba/lib/python3.11/site-packages (from statsmodels>=0.9.0->category_encoders) (23.2)\n",
      "Requirement already satisfied: keras in /opt/mamba/lib/python3.11/site-packages (3.0.5)\n",
      "Requirement already satisfied: absl-py in /opt/mamba/lib/python3.11/site-packages (from keras) (2.1.0)\n",
      "Requirement already satisfied: numpy in /opt/mamba/lib/python3.11/site-packages (from keras) (1.26.4)\n",
      "Requirement already satisfied: rich in /opt/mamba/lib/python3.11/site-packages (from keras) (13.7.1)\n",
      "Requirement already satisfied: namex in /opt/mamba/lib/python3.11/site-packages (from keras) (0.0.7)\n",
      "Requirement already satisfied: h5py in /opt/mamba/lib/python3.11/site-packages (from keras) (3.10.0)\n",
      "Requirement already satisfied: dm-tree in /opt/mamba/lib/python3.11/site-packages (from keras) (0.1.8)\n",
      "Requirement already satisfied: ml-dtypes in /opt/mamba/lib/python3.11/site-packages (from keras) (0.3.2)\n",
      "Requirement already satisfied: markdown-it-py>=2.2.0 in /opt/mamba/lib/python3.11/site-packages (from rich->keras) (3.0.0)\n",
      "Requirement already satisfied: pygments<3.0.0,>=2.13.0 in /opt/mamba/lib/python3.11/site-packages (from rich->keras) (2.17.2)\n",
      "Requirement already satisfied: mdurl~=0.1 in /opt/mamba/lib/python3.11/site-packages (from markdown-it-py>=2.2.0->rich->keras) (0.1.2)\n"
     ]
    },
    {
     "name": "stderr",
     "output_type": "stream",
     "text": [
      "2024-03-19 10:05:06.083981: I tensorflow/core/util/port.cc:113] oneDNN custom operations are on. You may see slightly different numerical results due to floating-point round-off errors from different computation orders. To turn them off, set the environment variable `TF_ENABLE_ONEDNN_OPTS=0`.\n",
      "2024-03-19 10:05:06.084737: I external/local_tsl/tsl/cuda/cudart_stub.cc:32] Could not find cuda drivers on your machine, GPU will not be used.\n",
      "2024-03-19 10:05:06.089416: I external/local_tsl/tsl/cuda/cudart_stub.cc:32] Could not find cuda drivers on your machine, GPU will not be used.\n",
      "2024-03-19 10:05:06.149495: I tensorflow/core/platform/cpu_feature_guard.cc:210] This TensorFlow binary is optimized to use available CPU instructions in performance-critical operations.\n",
      "To enable the following instructions: AVX2 AVX512F AVX512_VNNI FMA, in other operations, rebuild TensorFlow with the appropriate compiler flags.\n",
      "2024-03-19 10:05:07.250389: W tensorflow/compiler/tf2tensorrt/utils/py_utils.cc:38] TF-TRT Warning: Could not find TensorRT\n"
     ]
    },
    {
     "name": "stdout",
     "output_type": "stream",
     "text": [
      "Requirement already satisfied: imblearn in /opt/mamba/lib/python3.11/site-packages (0.0)\n",
      "Requirement already satisfied: imbalanced-learn in /opt/mamba/lib/python3.11/site-packages (from imblearn) (0.12.0)\n",
      "Requirement already satisfied: numpy>=1.17.3 in /opt/mamba/lib/python3.11/site-packages (from imbalanced-learn->imblearn) (1.26.4)\n",
      "Requirement already satisfied: scipy>=1.5.0 in /opt/mamba/lib/python3.11/site-packages (from imbalanced-learn->imblearn) (1.12.0)\n",
      "Requirement already satisfied: scikit-learn>=1.0.2 in /opt/mamba/lib/python3.11/site-packages (from imbalanced-learn->imblearn) (1.4.1.post1)\n",
      "Requirement already satisfied: joblib>=1.1.1 in /opt/mamba/lib/python3.11/site-packages (from imbalanced-learn->imblearn) (1.3.2)\n",
      "Requirement already satisfied: threadpoolctl>=2.0.0 in /opt/mamba/lib/python3.11/site-packages (from imbalanced-learn->imblearn) (3.3.0)\n"
     ]
    }
   ],
   "source": [
    "import pandas as pd\n",
    "import numpy as np\n",
    "from sklearn.model_selection import train_test_split\n",
    "!pip install category_encoders\n",
    "import category_encoders as ce\n",
    "!pip install keras\n",
    "import keras\n",
    "from keras import layers\n",
    "!pip install keras-tuner -q\n",
    "import keras_tuner\n",
    "from keras.models import Sequential\n",
    "from keras.layers import Dense\n",
    "from sklearn.model_selection import KFold\n",
    "from sklearn.preprocessing import OneHotEncoder, StandardScaler as sc\n",
    "import matplotlib.pyplot as plt\n",
    "%matplotlib inline\n",
    "import seaborn as sns\n",
    "from sklearn.metrics import confusion_matrix\n",
    "!pip install imblearn\n",
    "import imblearn\n",
    "from imblearn.over_sampling import SMOTENC, RandomOverSampler"
   ]
  },
  {
   "cell_type": "markdown",
   "id": "95cedcd3-352d-4d2b-be2a-4562b99ac6e8",
   "metadata": {},
   "source": [
    "### Pre-processing"
   ]
  },
  {
   "cell_type": "code",
   "execution_count": 2,
   "id": "cb65cd39-a9b7-428d-a5d0-f4a370594f65",
   "metadata": {},
   "outputs": [
    {
     "data": {
      "text/html": [
       "<div>\n",
       "<style scoped>\n",
       "    .dataframe tbody tr th:only-of-type {\n",
       "        vertical-align: middle;\n",
       "    }\n",
       "\n",
       "    .dataframe tbody tr th {\n",
       "        vertical-align: top;\n",
       "    }\n",
       "\n",
       "    .dataframe thead th {\n",
       "        text-align: right;\n",
       "    }\n",
       "</style>\n",
       "<table border=\"1\" class=\"dataframe\">\n",
       "  <thead>\n",
       "    <tr style=\"text-align: right;\">\n",
       "      <th></th>\n",
       "      <th>id</th>\n",
       "      <th>Gender</th>\n",
       "      <th>Age</th>\n",
       "      <th>Driving_License</th>\n",
       "      <th>Region_Code</th>\n",
       "      <th>Previously_Insured</th>\n",
       "      <th>Vehicle_Age</th>\n",
       "      <th>Vehicle_Damage</th>\n",
       "      <th>Annual_Premium</th>\n",
       "      <th>Policy_Sales_Channel</th>\n",
       "      <th>Vintage</th>\n",
       "      <th>Response</th>\n",
       "    </tr>\n",
       "  </thead>\n",
       "  <tbody>\n",
       "    <tr>\n",
       "      <th>0</th>\n",
       "      <td>1</td>\n",
       "      <td>Male</td>\n",
       "      <td>44</td>\n",
       "      <td>1</td>\n",
       "      <td>28.0</td>\n",
       "      <td>0</td>\n",
       "      <td>&gt; 2 Years</td>\n",
       "      <td>Yes</td>\n",
       "      <td>40454.0</td>\n",
       "      <td>26.0</td>\n",
       "      <td>217</td>\n",
       "      <td>1</td>\n",
       "    </tr>\n",
       "    <tr>\n",
       "      <th>1</th>\n",
       "      <td>2</td>\n",
       "      <td>Male</td>\n",
       "      <td>76</td>\n",
       "      <td>1</td>\n",
       "      <td>3.0</td>\n",
       "      <td>0</td>\n",
       "      <td>1-2 Year</td>\n",
       "      <td>No</td>\n",
       "      <td>33536.0</td>\n",
       "      <td>26.0</td>\n",
       "      <td>183</td>\n",
       "      <td>0</td>\n",
       "    </tr>\n",
       "    <tr>\n",
       "      <th>2</th>\n",
       "      <td>3</td>\n",
       "      <td>Male</td>\n",
       "      <td>47</td>\n",
       "      <td>1</td>\n",
       "      <td>28.0</td>\n",
       "      <td>0</td>\n",
       "      <td>&gt; 2 Years</td>\n",
       "      <td>Yes</td>\n",
       "      <td>38294.0</td>\n",
       "      <td>26.0</td>\n",
       "      <td>27</td>\n",
       "      <td>1</td>\n",
       "    </tr>\n",
       "    <tr>\n",
       "      <th>3</th>\n",
       "      <td>4</td>\n",
       "      <td>Male</td>\n",
       "      <td>21</td>\n",
       "      <td>1</td>\n",
       "      <td>11.0</td>\n",
       "      <td>1</td>\n",
       "      <td>&lt; 1 Year</td>\n",
       "      <td>No</td>\n",
       "      <td>28619.0</td>\n",
       "      <td>152.0</td>\n",
       "      <td>203</td>\n",
       "      <td>0</td>\n",
       "    </tr>\n",
       "    <tr>\n",
       "      <th>4</th>\n",
       "      <td>5</td>\n",
       "      <td>Female</td>\n",
       "      <td>29</td>\n",
       "      <td>1</td>\n",
       "      <td>41.0</td>\n",
       "      <td>1</td>\n",
       "      <td>&lt; 1 Year</td>\n",
       "      <td>No</td>\n",
       "      <td>27496.0</td>\n",
       "      <td>152.0</td>\n",
       "      <td>39</td>\n",
       "      <td>0</td>\n",
       "    </tr>\n",
       "    <tr>\n",
       "      <th>5</th>\n",
       "      <td>6</td>\n",
       "      <td>Female</td>\n",
       "      <td>24</td>\n",
       "      <td>1</td>\n",
       "      <td>33.0</td>\n",
       "      <td>0</td>\n",
       "      <td>&lt; 1 Year</td>\n",
       "      <td>Yes</td>\n",
       "      <td>2630.0</td>\n",
       "      <td>160.0</td>\n",
       "      <td>176</td>\n",
       "      <td>0</td>\n",
       "    </tr>\n",
       "    <tr>\n",
       "      <th>6</th>\n",
       "      <td>7</td>\n",
       "      <td>Male</td>\n",
       "      <td>23</td>\n",
       "      <td>1</td>\n",
       "      <td>11.0</td>\n",
       "      <td>0</td>\n",
       "      <td>&lt; 1 Year</td>\n",
       "      <td>Yes</td>\n",
       "      <td>23367.0</td>\n",
       "      <td>152.0</td>\n",
       "      <td>249</td>\n",
       "      <td>0</td>\n",
       "    </tr>\n",
       "    <tr>\n",
       "      <th>7</th>\n",
       "      <td>8</td>\n",
       "      <td>Female</td>\n",
       "      <td>56</td>\n",
       "      <td>1</td>\n",
       "      <td>28.0</td>\n",
       "      <td>0</td>\n",
       "      <td>1-2 Year</td>\n",
       "      <td>Yes</td>\n",
       "      <td>32031.0</td>\n",
       "      <td>26.0</td>\n",
       "      <td>72</td>\n",
       "      <td>1</td>\n",
       "    </tr>\n",
       "    <tr>\n",
       "      <th>8</th>\n",
       "      <td>9</td>\n",
       "      <td>Female</td>\n",
       "      <td>24</td>\n",
       "      <td>1</td>\n",
       "      <td>3.0</td>\n",
       "      <td>1</td>\n",
       "      <td>&lt; 1 Year</td>\n",
       "      <td>No</td>\n",
       "      <td>27619.0</td>\n",
       "      <td>152.0</td>\n",
       "      <td>28</td>\n",
       "      <td>0</td>\n",
       "    </tr>\n",
       "    <tr>\n",
       "      <th>9</th>\n",
       "      <td>10</td>\n",
       "      <td>Female</td>\n",
       "      <td>32</td>\n",
       "      <td>1</td>\n",
       "      <td>6.0</td>\n",
       "      <td>1</td>\n",
       "      <td>&lt; 1 Year</td>\n",
       "      <td>No</td>\n",
       "      <td>28771.0</td>\n",
       "      <td>152.0</td>\n",
       "      <td>80</td>\n",
       "      <td>0</td>\n",
       "    </tr>\n",
       "  </tbody>\n",
       "</table>\n",
       "</div>"
      ],
      "text/plain": [
       "   id  Gender  Age  Driving_License  Region_Code  Previously_Insured  \\\n",
       "0   1    Male   44                1         28.0                   0   \n",
       "1   2    Male   76                1          3.0                   0   \n",
       "2   3    Male   47                1         28.0                   0   \n",
       "3   4    Male   21                1         11.0                   1   \n",
       "4   5  Female   29                1         41.0                   1   \n",
       "5   6  Female   24                1         33.0                   0   \n",
       "6   7    Male   23                1         11.0                   0   \n",
       "7   8  Female   56                1         28.0                   0   \n",
       "8   9  Female   24                1          3.0                   1   \n",
       "9  10  Female   32                1          6.0                   1   \n",
       "\n",
       "  Vehicle_Age Vehicle_Damage  Annual_Premium  Policy_Sales_Channel  Vintage  \\\n",
       "0   > 2 Years            Yes         40454.0                  26.0      217   \n",
       "1    1-2 Year             No         33536.0                  26.0      183   \n",
       "2   > 2 Years            Yes         38294.0                  26.0       27   \n",
       "3    < 1 Year             No         28619.0                 152.0      203   \n",
       "4    < 1 Year             No         27496.0                 152.0       39   \n",
       "5    < 1 Year            Yes          2630.0                 160.0      176   \n",
       "6    < 1 Year            Yes         23367.0                 152.0      249   \n",
       "7    1-2 Year            Yes         32031.0                  26.0       72   \n",
       "8    < 1 Year             No         27619.0                 152.0       28   \n",
       "9    < 1 Year             No         28771.0                 152.0       80   \n",
       "\n",
       "   Response  \n",
       "0         1  \n",
       "1         0  \n",
       "2         1  \n",
       "3         0  \n",
       "4         0  \n",
       "5         0  \n",
       "6         0  \n",
       "7         1  \n",
       "8         0  \n",
       "9         0  "
      ]
     },
     "execution_count": 2,
     "metadata": {},
     "output_type": "execute_result"
    }
   ],
   "source": [
    "df = pd.read_csv(\"https://minio.lab.sspcloud.fr/jbrablx/ai_insurance/raw/train.csv\")\n",
    "df.head(10)"
   ]
  },
  {
   "cell_type": "code",
   "execution_count": 3,
   "id": "1e9ef9df-50a0-4083-8f7c-868812655bbb",
   "metadata": {},
   "outputs": [],
   "source": [
    "#Category variables\n",
    "df['Vehicle_Damage'] = np.where(df['Vehicle_Damage']!= 'Yes', 1, 0)\n",
    "df['Gender'] = np.where(df['Gender']!= 'Male', 1, 0)\n",
    "cats = ['< 1 Year', '1-2 Year', '> 2 Years']\n",
    "df['Vehicle_Age'] = pd.Categorical(df['Vehicle_Age'],ordered=True, categories=cats)"
   ]
  },
  {
   "cell_type": "code",
   "execution_count": 4,
   "id": "b9d35aba-1811-491b-943b-4200a0796cd0",
   "metadata": {},
   "outputs": [],
   "source": [
    "#Split input/output variable(s)\n",
    "x = df.drop(['Response', 'id'], axis=1)\n",
    "y = df[['Response']]"
   ]
  },
  {
   "cell_type": "code",
   "execution_count": 5,
   "id": "db5ab764-5617-4339-8389-1d901dfc5741",
   "metadata": {},
   "outputs": [],
   "source": [
    "#One-hot encoding for Vehicle_Age\n",
    "encoder = ce.OrdinalEncoder(cols=['Vehicle_Age'])\n",
    "x = encoder.fit_transform(x)"
   ]
  },
  {
   "cell_type": "code",
   "execution_count": 6,
   "id": "d8937bb1-cd42-4190-842d-5e04c0e9d6ec",
   "metadata": {},
   "outputs": [],
   "source": [
    "seed = 42\n",
    "epochs = 10\n",
    "batch_size = 100"
   ]
  },
  {
   "cell_type": "code",
   "execution_count": 7,
   "id": "cccb05ff-0797-475b-98de-193056b1e726",
   "metadata": {},
   "outputs": [],
   "source": [
    "#Train-test split\n",
    "x_train, x_test, y_train, y_test = train_test_split(x, y, test_size=0.2, stratify=y, random_state=seed)"
   ]
  },
  {
   "cell_type": "markdown",
   "id": "c36ec9f2-fc19-4d43-a8f0-59654ce9df9c",
   "metadata": {},
   "source": [
    "#### Re-sampling vs weight classes"
   ]
  },
  {
   "cell_type": "code",
   "execution_count": 8,
   "id": "ef2aeb05-ee12-493b-a6ad-6ebccad5963f",
   "metadata": {},
   "outputs": [
    {
     "name": "stdout",
     "output_type": "stream",
     "text": [
      "SMOTE\n",
      "--------\n"
     ]
    }
   ],
   "source": [
    "method = \"SMOTE\"\n",
    "class_weights = None\n",
    "#Re-sampling\n",
    "if method == \"SMOTE\":\n",
    "    print(\"SMOTE\")\n",
    "    print(\"--------\")\n",
    "    cat_features = ['Gender', 'Driving_License', 'Region_Code', 'Previously_Insured', 'Vehicle_Damage', 'Policy_Sales_Channel', 'Vehicle_Age']\n",
    "    smote = SMOTENC(random_state=seed, k_neighbors=15, categorical_features=cat_features)\n",
    "    x_train, y_train = smote.fit_resample(x_train, y_train)\n",
    "#Re-sampling\n",
    "elif method == \"OVER\":\n",
    "    print(\"RandomOverSampler\")\n",
    "    print(\"--------\")\n",
    "    rs = RandomOverSampler(random_state=seed)\n",
    "    x_train, y_train = rs.fit_resample(x_train, y_train)\n",
    "#Weight classes\n",
    "elif method == \"WEIGHTS\" :\n",
    "    print(\"CLASSWEIGHTS\")\n",
    "    print(\"--------\")\n",
    "    neg, pos = np.bincount(np.reshape(y_train, y_train.size))\n",
    "    # Scaling by total/2 helps keep the loss to a similar magnitude.\n",
    "    # The sum of the weights of all stays the same.\n",
    "    weight_for_0 = (1 / neg)*(neg+pos)/2.0 \n",
    "    weight_for_1 = (1 / pos)*(neg+pos)/2.0\n",
    "    class_weights = {0: weight_for_0, 1: weight_for_1}\n",
    "    print('Weight for class 0: {:.2f}\\n'.format(weight_for_0),\n",
    "          'Weight for class 1: {:.2f}'.format(weight_for_1))\n",
    "else:\n",
    "    pass\n",
    "    "
   ]
  },
  {
   "cell_type": "code",
   "execution_count": 9,
   "id": "f7375440-9a98-4724-97f0-7f418c636d37",
   "metadata": {},
   "outputs": [],
   "source": [
    "#Scaling the data using the sklearn StandardScaler to set the mean to 0 and standard deviation to 1.\n",
    "scaler=sc()\n",
    "x_train=scaler.fit_transform(x_train)\n",
    "x_test=scaler.fit_transform(x_test)"
   ]
  },
  {
   "cell_type": "code",
   "execution_count": 10,
   "id": "c8c30e09-e785-4d97-8a47-fb626e64ade8",
   "metadata": {},
   "outputs": [],
   "source": [
    "#Validation-train split\n",
    "x_val, x_train, y_val, y_train = train_test_split(x_train, y_train, test_size=0.8, stratify=y_train, random_state=seed)\n",
    "\n",
    "x_val_train, x_val_test, y_val_train, y_val_test = train_test_split(x_val, y_val, test_size=0.2, stratify=y_val, random_state=seed)\n"
   ]
  },
  {
   "cell_type": "markdown",
   "id": "11d860ec-ca07-4e91-9062-ea75fa4b8ca0",
   "metadata": {},
   "source": [
    "### Determining the best hyperparameters"
   ]
  },
  {
   "cell_type": "markdown",
   "id": "d3d2d816-5a42-4aa2-8174-652f88c68f7b",
   "metadata": {},
   "source": [
    "#### 1st neural network"
   ]
  },
  {
   "cell_type": "code",
   "execution_count": 11,
   "id": "1cf8a78e-f490-439b-a28b-0efbc4fe38a4",
   "metadata": {},
   "outputs": [
    {
     "name": "stderr",
     "output_type": "stream",
     "text": [
      "/opt/mamba/lib/python3.11/site-packages/keras/src/layers/core/dense.py:85: UserWarning: Do not pass an `input_shape`/`input_dim` argument to a layer. When using Sequential models, prefer using an `Input(shape)` object as the first layer in the model instead.\n",
      "  super().__init__(activity_regularizer=activity_regularizer, **kwargs)\n"
     ]
    },
    {
     "data": {
      "text/plain": [
       "<Sequential name=sequential, built=True>"
      ]
     },
     "execution_count": 11,
     "metadata": {},
     "output_type": "execute_result"
    }
   ],
   "source": [
    "#Neural network structure\n",
    "def call_existing_code_1(units, dropout, lr):\n",
    "    model = keras.Sequential()\n",
    "    model.add(layers.Dense(units=units, activation='relu', input_dim = 10))\n",
    "    if dropout:\n",
    "        model.add(layers.Dropout(rate=0.25))\n",
    "    model.add(layers.Dense(1, activation=\"sigmoid\"))\n",
    "    model.compile(\n",
    "        optimizer=keras.optimizers.Adam(learning_rate=lr),\n",
    "        loss=\"binary_crossentropy\",\n",
    "        metrics=[\"f1_score\"],\n",
    "    )\n",
    "    return model\n",
    "\n",
    "#Range of values to be tested for the hyperparameters\n",
    "def build_model_1(hp):\n",
    "    units = hp.Int(\"units\", min_value=32, max_value=512, step=32)\n",
    "    dropout = hp.Boolean(\"dropout\")\n",
    "    lr = hp.Float(\"lr\", min_value=1e-4, max_value=1e-2, sampling=\"log\")\n",
    "    # call existing model-building code with the hyperparameter values.\n",
    "    model = call_existing_code_1(\n",
    "        units=units, dropout=dropout, lr=lr\n",
    "    )\n",
    "    return model\n",
    "\n",
    "\n",
    "build_model_1(keras_tuner.HyperParameters())"
   ]
  },
  {
   "cell_type": "code",
   "execution_count": 12,
   "id": "f14521ef-b8ab-43ad-878c-f748321deb82",
   "metadata": {},
   "outputs": [
    {
     "name": "stdout",
     "output_type": "stream",
     "text": [
      "Trial 10 Complete [00h 00m 29s]\n",
      "f1_score: 0.6666718125343323\n",
      "\n",
      "Best f1_score So Far: 0.6666718125343323\n",
      "Total elapsed time: 00h 05m 43s\n"
     ]
    }
   ],
   "source": [
    "#Search for best hyperparameter values\n",
    "tuner_1 = keras_tuner.RandomSearch(\n",
    "    hypermodel=build_model_1,\n",
    "    objective=\"f1_score\",\n",
    "    max_trials=10,\n",
    "    executions_per_trial=2,\n",
    "    overwrite=True,\n",
    "    directory=\"my_dir_1\",\n",
    "    project_name=\"helloworld_1\",\n",
    ")\n",
    "\n",
    "tuner_1.search_space_summary()\n",
    "\n",
    "tuner_1.search(x_val_train, y_val_train, epochs=epochs, batch_size = batch_size, validation_data=(x_val_test, y_val_test))\n"
   ]
  },
  {
   "cell_type": "code",
   "execution_count": 13,
   "id": "7abc1ad0-d21e-454e-9a5f-17f7b3395513",
   "metadata": {},
   "outputs": [
    {
     "name": "stdout",
     "output_type": "stream",
     "text": [
      "Results summary\n",
      "Results in my_dir_1/helloworld_1\n",
      "Showing 10 best trials\n",
      "Objective(name=\"f1_score\", direction=\"min\")\n",
      "\n",
      "Trial 01 summary\n",
      "Hyperparameters:\n",
      "units: 64\n",
      "dropout: False\n",
      "lr: 0.00011831890118090147\n",
      "Score: 0.6666718125343323\n",
      "\n",
      "Trial 04 summary\n",
      "Hyperparameters:\n",
      "units: 64\n",
      "dropout: False\n",
      "lr: 0.0036348357955055173\n",
      "Score: 0.6666718125343323\n",
      "\n",
      "Trial 05 summary\n",
      "Hyperparameters:\n",
      "units: 320\n",
      "dropout: True\n",
      "lr: 0.00013161121798180208\n",
      "Score: 0.6666718125343323\n",
      "\n",
      "Trial 06 summary\n",
      "Hyperparameters:\n",
      "units: 128\n",
      "dropout: True\n",
      "lr: 0.00012419672348410802\n",
      "Score: 0.6666718125343323\n",
      "\n",
      "Trial 08 summary\n",
      "Hyperparameters:\n",
      "units: 288\n",
      "dropout: False\n",
      "lr: 0.005407624490575333\n",
      "Score: 0.6666718125343323\n",
      "\n",
      "Trial 09 summary\n",
      "Hyperparameters:\n",
      "units: 288\n",
      "dropout: False\n",
      "lr: 0.0028665617053678385\n",
      "Score: 0.6666718125343323\n",
      "\n",
      "Trial 00 summary\n",
      "Hyperparameters:\n",
      "units: 416\n",
      "dropout: False\n",
      "lr: 0.00727897287917818\n",
      "Score: 0.66667440533638\n",
      "\n",
      "Trial 07 summary\n",
      "Hyperparameters:\n",
      "units: 192\n",
      "dropout: True\n",
      "lr: 0.0032966542033772053\n",
      "Score: 0.6667055487632751\n",
      "\n",
      "Trial 02 summary\n",
      "Hyperparameters:\n",
      "units: 160\n",
      "dropout: True\n",
      "lr: 0.004466113174576286\n",
      "Score: 0.6667107343673706\n",
      "\n",
      "Trial 03 summary\n",
      "Hyperparameters:\n",
      "units: 256\n",
      "dropout: True\n",
      "lr: 0.005041032177569348\n",
      "Score: 0.6667367219924927\n"
     ]
    }
   ],
   "source": [
    "tuner_1.results_summary()\n",
    "\n",
    "best_hps = tuner_1.get_best_hyperparameters(5)\n",
    "model_1 = build_model_1(best_hps[0])"
   ]
  },
  {
   "cell_type": "markdown",
   "id": "303e38ea-6439-4146-9dce-e1b42059fa96",
   "metadata": {},
   "source": [
    "#### 2nd neural network (fully connected neural network)"
   ]
  },
  {
   "cell_type": "code",
   "execution_count": 14,
   "id": "3beff21c-4159-4a43-8b9a-f6ca7a77dbf2",
   "metadata": {},
   "outputs": [
    {
     "data": {
      "text/plain": [
       "<Sequential name=sequential_2, built=True>"
      ]
     },
     "execution_count": 14,
     "metadata": {},
     "output_type": "execute_result"
    }
   ],
   "source": [
    "#Neural network structure\n",
    "def call_existing_code_2(units_1, units_2, units_3, lr):\n",
    "    model = keras.Sequential()\n",
    "    model.add(keras.Input(shape=(10,)))\n",
    "    model.add(keras.layers.Dense(units_1, activation='relu')) \n",
    "    model.add(keras.layers.Dense(units_2, activation='relu'))\n",
    "    model.add(keras.layers.Dense(units_3, activation='relu')) \n",
    "    model.add(keras.layers.Dense(1, activation='sigmoid')) \n",
    "    model.compile(\n",
    "        optimizer=keras.optimizers.SGD(learning_rate=lr), \n",
    "        loss=keras.losses.BinaryCrossentropy(), \n",
    "        metrics=['f1_score'])\n",
    "    return model\n",
    "\n",
    "#Range of values to be tested for the hyperparameters\n",
    "def build_model_2(hp):\n",
    "    units_1 = hp.Int(\"units_1\", min_value=32, max_value=512, step=32)\n",
    "    units_2 = hp.Int(\"units_2\", min_value=32, max_value=512, step=32)\n",
    "    units_3 = hp.Int(\"units_3\", min_value=32, max_value=512, step=32)\n",
    "    lr = hp.Float(\"lr\", min_value=1e-4, max_value=1e-2, sampling=\"log\")\n",
    "    # call existing model-building code with the hyperparameter values.\n",
    "    model = call_existing_code_2(\n",
    "        units_1=units_1, units_2=units_2, units_3=units_3, lr=lr\n",
    "    )\n",
    "    return model\n",
    "\n",
    "\n",
    "build_model_2(keras_tuner.HyperParameters())"
   ]
  },
  {
   "cell_type": "code",
   "execution_count": 15,
   "id": "6fa8a9d2-cd39-4cce-bbc3-b40eac116727",
   "metadata": {},
   "outputs": [
    {
     "name": "stdout",
     "output_type": "stream",
     "text": [
      "Trial 10 Complete [00h 00m 49s]\n",
      "f1_score: 0.6666718125343323\n",
      "\n",
      "Best f1_score So Far: 0.6666718125343323\n",
      "Total elapsed time: 00h 11m 25s\n"
     ]
    }
   ],
   "source": [
    "#Search for best hyperparameter values\n",
    "tuner_2 = keras_tuner.RandomSearch(\n",
    "    hypermodel=build_model_2,\n",
    "    objective=\"f1_score\",\n",
    "    max_trials=10,\n",
    "    executions_per_trial=2,\n",
    "    overwrite=True,\n",
    "    directory=\"my_dir_2\",\n",
    "    project_name=\"helloworld_2\",\n",
    ")\n",
    "\n",
    "tuner_2.search_space_summary()\n",
    "\n",
    "tuner_2.search(x_val_train, y_val_train, epochs=epochs, batch_size = batch_size, validation_data=(x_val_test, y_val_test))\n"
   ]
  },
  {
   "cell_type": "code",
   "execution_count": 16,
   "id": "9e2e5b90-8fb7-4043-bfaa-44620d02504c",
   "metadata": {},
   "outputs": [
    {
     "name": "stdout",
     "output_type": "stream",
     "text": [
      "Results summary\n",
      "Results in my_dir_2/helloworld_2\n",
      "Showing 10 best trials\n",
      "Objective(name=\"f1_score\", direction=\"min\")\n",
      "\n",
      "Trial 00 summary\n",
      "Hyperparameters:\n",
      "units_1: 128\n",
      "units_2: 512\n",
      "units_3: 192\n",
      "lr: 0.0019139700709032877\n",
      "Score: 0.6666718125343323\n",
      "\n",
      "Trial 01 summary\n",
      "Hyperparameters:\n",
      "units_1: 64\n",
      "units_2: 384\n",
      "units_3: 448\n",
      "lr: 0.0017976241984637314\n",
      "Score: 0.6666718125343323\n",
      "\n",
      "Trial 02 summary\n",
      "Hyperparameters:\n",
      "units_1: 384\n",
      "units_2: 96\n",
      "units_3: 128\n",
      "lr: 0.001462861942805172\n",
      "Score: 0.6666718125343323\n",
      "\n",
      "Trial 03 summary\n",
      "Hyperparameters:\n",
      "units_1: 416\n",
      "units_2: 416\n",
      "units_3: 256\n",
      "lr: 0.0005371117831720339\n",
      "Score: 0.6666718125343323\n",
      "\n",
      "Trial 04 summary\n",
      "Hyperparameters:\n",
      "units_1: 32\n",
      "units_2: 32\n",
      "units_3: 224\n",
      "lr: 0.0007691606627828794\n",
      "Score: 0.6666718125343323\n",
      "\n",
      "Trial 05 summary\n",
      "Hyperparameters:\n",
      "units_1: 96\n",
      "units_2: 224\n",
      "units_3: 32\n",
      "lr: 0.005721035616396644\n",
      "Score: 0.6666718125343323\n",
      "\n",
      "Trial 06 summary\n",
      "Hyperparameters:\n",
      "units_1: 384\n",
      "units_2: 288\n",
      "units_3: 384\n",
      "lr: 0.005498981513304376\n",
      "Score: 0.6666718125343323\n",
      "\n",
      "Trial 07 summary\n",
      "Hyperparameters:\n",
      "units_1: 416\n",
      "units_2: 192\n",
      "units_3: 128\n",
      "lr: 0.00035276138234744287\n",
      "Score: 0.6666718125343323\n",
      "\n",
      "Trial 08 summary\n",
      "Hyperparameters:\n",
      "units_1: 160\n",
      "units_2: 384\n",
      "units_3: 192\n",
      "lr: 0.0003299839763081992\n",
      "Score: 0.6666718125343323\n",
      "\n",
      "Trial 09 summary\n",
      "Hyperparameters:\n",
      "units_1: 160\n",
      "units_2: 32\n",
      "units_3: 192\n",
      "lr: 0.008401740215485797\n",
      "Score: 0.6666718125343323\n"
     ]
    }
   ],
   "source": [
    "tuner_2.results_summary()\n",
    "\n",
    "best_hps = tuner_2.get_best_hyperparameters(5)\n",
    "model_2 = build_model_2(best_hps[0])"
   ]
  },
  {
   "cell_type": "markdown",
   "id": "a1b3a8e7-d7d3-4fc9-9281-772c8f8c7b2c",
   "metadata": {},
   "source": [
    "### k-Fold Cross-Validation"
   ]
  },
  {
   "cell_type": "code",
   "execution_count": null,
   "id": "54115faa-99d0-4568-82ed-430f1d27c024",
   "metadata": {},
   "outputs": [
    {
     "data": {
      "text/html": [
       "<pre style=\"white-space:pre;overflow-x:auto;line-height:normal;font-family:Menlo,'DejaVu Sans Mono',consolas,'Courier New',monospace\"><span style=\"font-weight: bold\">Model: \"sequential_1\"</span>\n",
       "</pre>\n"
      ],
      "text/plain": [
       "\u001b[1mModel: \"sequential_1\"\u001b[0m\n"
      ]
     },
     "metadata": {},
     "output_type": "display_data"
    },
    {
     "data": {
      "text/html": [
       "<pre style=\"white-space:pre;overflow-x:auto;line-height:normal;font-family:Menlo,'DejaVu Sans Mono',consolas,'Courier New',monospace\">┏━━━━━━━━━━━━━━━━━━━━━━━━━━━━━━━━━┳━━━━━━━━━━━━━━━━━━━━━━━━┳━━━━━━━━━━━━━━━┓\n",
       "┃<span style=\"font-weight: bold\"> Layer (type)                    </span>┃<span style=\"font-weight: bold\"> Output Shape           </span>┃<span style=\"font-weight: bold\">       Param # </span>┃\n",
       "┡━━━━━━━━━━━━━━━━━━━━━━━━━━━━━━━━━╇━━━━━━━━━━━━━━━━━━━━━━━━╇━━━━━━━━━━━━━━━┩\n",
       "│ dense_2 (<span style=\"color: #0087ff; text-decoration-color: #0087ff\">Dense</span>)                 │ (<span style=\"color: #00d7ff; text-decoration-color: #00d7ff\">None</span>, <span style=\"color: #00af00; text-decoration-color: #00af00\">64</span>)             │           <span style=\"color: #00af00; text-decoration-color: #00af00\">704</span> │\n",
       "├─────────────────────────────────┼────────────────────────┼───────────────┤\n",
       "│ dense_3 (<span style=\"color: #0087ff; text-decoration-color: #0087ff\">Dense</span>)                 │ (<span style=\"color: #00d7ff; text-decoration-color: #00d7ff\">None</span>, <span style=\"color: #00af00; text-decoration-color: #00af00\">1</span>)              │            <span style=\"color: #00af00; text-decoration-color: #00af00\">65</span> │\n",
       "└─────────────────────────────────┴────────────────────────┴───────────────┘\n",
       "</pre>\n"
      ],
      "text/plain": [
       "┏━━━━━━━━━━━━━━━━━━━━━━━━━━━━━━━━━┳━━━━━━━━━━━━━━━━━━━━━━━━┳━━━━━━━━━━━━━━━┓\n",
       "┃\u001b[1m \u001b[0m\u001b[1mLayer (type)                   \u001b[0m\u001b[1m \u001b[0m┃\u001b[1m \u001b[0m\u001b[1mOutput Shape          \u001b[0m\u001b[1m \u001b[0m┃\u001b[1m \u001b[0m\u001b[1m      Param #\u001b[0m\u001b[1m \u001b[0m┃\n",
       "┡━━━━━━━━━━━━━━━━━━━━━━━━━━━━━━━━━╇━━━━━━━━━━━━━━━━━━━━━━━━╇━━━━━━━━━━━━━━━┩\n",
       "│ dense_2 (\u001b[38;5;33mDense\u001b[0m)                 │ (\u001b[38;5;45mNone\u001b[0m, \u001b[38;5;34m64\u001b[0m)             │           \u001b[38;5;34m704\u001b[0m │\n",
       "├─────────────────────────────────┼────────────────────────┼───────────────┤\n",
       "│ dense_3 (\u001b[38;5;33mDense\u001b[0m)                 │ (\u001b[38;5;45mNone\u001b[0m, \u001b[38;5;34m1\u001b[0m)              │            \u001b[38;5;34m65\u001b[0m │\n",
       "└─────────────────────────────────┴────────────────────────┴───────────────┘\n"
      ]
     },
     "metadata": {},
     "output_type": "display_data"
    },
    {
     "data": {
      "text/html": [
       "<pre style=\"white-space:pre;overflow-x:auto;line-height:normal;font-family:Menlo,'DejaVu Sans Mono',consolas,'Courier New',monospace\"><span style=\"font-weight: bold\"> Total params: </span><span style=\"color: #00af00; text-decoration-color: #00af00\">769</span> (3.00 KB)\n",
       "</pre>\n"
      ],
      "text/plain": [
       "\u001b[1m Total params: \u001b[0m\u001b[38;5;34m769\u001b[0m (3.00 KB)\n"
      ]
     },
     "metadata": {},
     "output_type": "display_data"
    },
    {
     "data": {
      "text/html": [
       "<pre style=\"white-space:pre;overflow-x:auto;line-height:normal;font-family:Menlo,'DejaVu Sans Mono',consolas,'Courier New',monospace\"><span style=\"font-weight: bold\"> Trainable params: </span><span style=\"color: #00af00; text-decoration-color: #00af00\">769</span> (3.00 KB)\n",
       "</pre>\n"
      ],
      "text/plain": [
       "\u001b[1m Trainable params: \u001b[0m\u001b[38;5;34m769\u001b[0m (3.00 KB)\n"
      ]
     },
     "metadata": {},
     "output_type": "display_data"
    },
    {
     "data": {
      "text/html": [
       "<pre style=\"white-space:pre;overflow-x:auto;line-height:normal;font-family:Menlo,'DejaVu Sans Mono',consolas,'Courier New',monospace\"><span style=\"font-weight: bold\"> Non-trainable params: </span><span style=\"color: #00af00; text-decoration-color: #00af00\">0</span> (0.00 B)\n",
       "</pre>\n"
      ],
      "text/plain": [
       "\u001b[1m Non-trainable params: \u001b[0m\u001b[38;5;34m0\u001b[0m (0.00 B)\n"
      ]
     },
     "metadata": {},
     "output_type": "display_data"
    },
    {
     "name": "stdout",
     "output_type": "stream",
     "text": [
      "Epoch 1/10\n",
      "\u001b[1m3211/3211\u001b[0m \u001b[32m━━━━━━━━━━━━━━━━━━━━\u001b[0m\u001b[37m\u001b[0m \u001b[1m7s\u001b[0m 2ms/step - f1_score: 0.6671 - loss: 0.4859\n",
      "Epoch 2/10\n",
      "\u001b[1m3211/3211\u001b[0m \u001b[32m━━━━━━━━━━━━━━━━━━━━\u001b[0m\u001b[37m\u001b[0m \u001b[1m6s\u001b[0m 2ms/step - f1_score: 0.6676 - loss: 0.3824\n",
      "Epoch 3/10\n",
      "\u001b[1m3211/3211\u001b[0m \u001b[32m━━━━━━━━━━━━━━━━━━━━\u001b[0m\u001b[37m\u001b[0m \u001b[1m6s\u001b[0m 2ms/step - f1_score: 0.6665 - loss: 0.3758\n",
      "Epoch 4/10\n",
      "\u001b[1m3211/3211\u001b[0m \u001b[32m━━━━━━━━━━━━━━━━━━━━\u001b[0m\u001b[37m\u001b[0m \u001b[1m6s\u001b[0m 2ms/step - f1_score: 0.6675 - loss: 0.3739\n",
      "Epoch 5/10\n",
      "\u001b[1m3211/3211\u001b[0m \u001b[32m━━━━━━━━━━━━━━━━━━━━\u001b[0m\u001b[37m\u001b[0m \u001b[1m6s\u001b[0m 2ms/step - f1_score: 0.6659 - loss: 0.3719\n",
      "Epoch 6/10\n",
      "\u001b[1m3211/3211\u001b[0m \u001b[32m━━━━━━━━━━━━━━━━━━━━\u001b[0m\u001b[37m\u001b[0m \u001b[1m6s\u001b[0m 2ms/step - f1_score: 0.6656 - loss: 0.3699\n",
      "Epoch 7/10\n",
      "\u001b[1m3211/3211\u001b[0m \u001b[32m━━━━━━━━━━━━━━━━━━━━\u001b[0m\u001b[37m\u001b[0m \u001b[1m6s\u001b[0m 2ms/step - f1_score: 0.6669 - loss: 0.3690\n",
      "Epoch 8/10\n",
      "\u001b[1m3211/3211\u001b[0m \u001b[32m━━━━━━━━━━━━━━━━━━━━\u001b[0m\u001b[37m\u001b[0m \u001b[1m6s\u001b[0m 2ms/step - f1_score: 0.6656 - loss: 0.3665\n",
      "Epoch 9/10\n",
      "\u001b[1m3211/3211\u001b[0m \u001b[32m━━━━━━━━━━━━━━━━━━━━\u001b[0m\u001b[37m\u001b[0m \u001b[1m6s\u001b[0m 2ms/step - f1_score: 0.6674 - loss: 0.3662\n",
      "Epoch 10/10\n",
      "\u001b[1m3211/3211\u001b[0m \u001b[32m━━━━━━━━━━━━━━━━━━━━\u001b[0m\u001b[37m\u001b[0m \u001b[1m6s\u001b[0m 2ms/step - f1_score: 0.6665 - loss: 0.3660\n",
      "\u001b[1m3344/3344\u001b[0m \u001b[32m━━━━━━━━━━━━━━━━━━━━\u001b[0m\u001b[37m\u001b[0m \u001b[1m4s\u001b[0m 1ms/step - f1_score: 0.6651 - loss: 0.3639\n"
     ]
    },
    {
     "data": {
      "image/png": "[encoded data removed]",
      "text/plain": [
       "<Figure size 640x480 with 1 Axes>"
      ]
     },
     "metadata": {},
     "output_type": "display_data"
    },
    {
     "name": "stdout",
     "output_type": "stream",
     "text": [
      "Epoch 1/10\n",
      "\u001b[1m3211/3211\u001b[0m \u001b[32m━━━━━━━━━━━━━━━━━━━━\u001b[0m\u001b[37m\u001b[0m \u001b[1m6s\u001b[0m 2ms/step - f1_score: 0.6665 - loss: 0.3664\n",
      "Epoch 2/10\n",
      "\u001b[1m3211/3211\u001b[0m \u001b[32m━━━━━━━━━━━━━━━━━━━━\u001b[0m\u001b[37m\u001b[0m \u001b[1m7s\u001b[0m 2ms/step - f1_score: 0.6665 - loss: 0.3639\n",
      "Epoch 3/10\n",
      "\u001b[1m3211/3211\u001b[0m \u001b[32m━━━━━━━━━━━━━━━━━━━━\u001b[0m\u001b[37m\u001b[0m \u001b[1m4s\u001b[0m 1ms/step - f1_score: 0.6660 - loss: 0.3642\n",
      "Epoch 4/10\n",
      "\u001b[1m3211/3211\u001b[0m \u001b[32m━━━━━━━━━━━━━━━━━━━━\u001b[0m\u001b[37m\u001b[0m \u001b[1m3s\u001b[0m 986us/step - f1_score: 0.6663 - loss: 0.3616\n",
      "Epoch 5/10\n",
      "\u001b[1m3211/3211\u001b[0m \u001b[32m━━━━━━━━━━━━━━━━━━━━\u001b[0m\u001b[37m\u001b[0m \u001b[1m4s\u001b[0m 1ms/step - f1_score: 0.6650 - loss: 0.3611\n",
      "Epoch 6/10\n",
      "\u001b[1m3211/3211\u001b[0m \u001b[32m━━━━━━━━━━━━━━━━━━━━\u001b[0m\u001b[37m\u001b[0m \u001b[1m5s\u001b[0m 1ms/step - f1_score: 0.6657 - loss: 0.3598\n",
      "Epoch 7/10\n",
      "\u001b[1m3211/3211\u001b[0m \u001b[32m━━━━━━━━━━━━━━━━━━━━\u001b[0m\u001b[37m\u001b[0m \u001b[1m6s\u001b[0m 2ms/step - f1_score: 0.6666 - loss: 0.3594\n",
      "Epoch 8/10\n",
      "\u001b[1m3211/3211\u001b[0m \u001b[32m━━━━━━━━━━━━━━━━━━━━\u001b[0m\u001b[37m\u001b[0m \u001b[1m6s\u001b[0m 2ms/step - f1_score: 0.6653 - loss: 0.3600\n",
      "Epoch 9/10\n",
      "\u001b[1m3211/3211\u001b[0m \u001b[32m━━━━━━━━━━━━━━━━━━━━\u001b[0m\u001b[37m\u001b[0m \u001b[1m6s\u001b[0m 2ms/step - f1_score: 0.6679 - loss: 0.3586\n",
      "Epoch 10/10\n",
      "\u001b[1m3211/3211\u001b[0m \u001b[32m━━━━━━━━━━━━━━━━━━━━\u001b[0m\u001b[37m\u001b[0m \u001b[1m6s\u001b[0m 2ms/step - f1_score: 0.6658 - loss: 0.3591\n",
      "\u001b[1m3344/3344\u001b[0m \u001b[32m━━━━━━━━━━━━━━━━━━━━\u001b[0m\u001b[37m\u001b[0m \u001b[1m4s\u001b[0m 1ms/step - f1_score: 0.6679 - loss: 0.3563\n"
     ]
    },
    {
     "data": {
      "image/png": "[encoded data removed]",
      "text/plain": [
       "<Figure size 640x480 with 1 Axes>"
      ]
     },
     "metadata": {},
     "output_type": "display_data"
    },
    {
     "name": "stdout",
     "output_type": "stream",
     "text": [
      "Epoch 1/10\n",
      "\u001b[1m3211/3211\u001b[0m \u001b[32m━━━━━━━━━━━━━━━━━━━━\u001b[0m\u001b[37m\u001b[0m \u001b[1m6s\u001b[0m 2ms/step - f1_score: 0.6677 - loss: 0.3578\n",
      "Epoch 2/10\n",
      "\u001b[1m2590/3211\u001b[0m \u001b[32m━━━━━━━━━━━━━━━━\u001b[0m\u001b[37m━━━━\u001b[0m \u001b[1m1s\u001b[0m 2ms/step - f1_score: 0.6673 - loss: 0.3558"
     ]
    }
   ],
   "source": [
    "#x_train = x_train.to_numpy()\n",
    "#y_train = y_train.to_numpy()\n",
    "\n",
    "#Model 1 or Model 2\n",
    "model = model_1\n",
    "\n",
    "#Number of folds\n",
    "kfold = KFold(n_splits = 4, shuffle=True, random_state=seed)\n",
    "\n",
    "#List to store the scores\n",
    "scores = []\n",
    "\n",
    "model.summary()\n",
    "\n",
    "#For each fold\n",
    "for train_index, test_index in kfold.split(x_train,y_train):\n",
    "    # Split the data into train and test sets\n",
    "    Y_train, Y_test = y_train[train_index], y_train[test_index]\n",
    "    X_train, X_test = x_train[train_index], x_train[test_index]\n",
    "\n",
    "    # Fit the model on the training data\n",
    "    history = model.fit(X_train, Y_train, epochs=epochs, batch_size=batch_size, class_weight = class_weights)\n",
    "\n",
    "    # Evaluate the model on the test data\n",
    "    score = model.evaluate(X_test, Y_test)\n",
    "\n",
    "    # Append the score to the scores list\n",
    "    scores.append(score[1])\n",
    "    plt.plot(history.history['f1_score'])\n",
    "    plt.title('Model Training Accuracy')\n",
    "    plt.ylabel('f1 Score')\n",
    "    plt.xlabel('Epoch')\n",
    "    plt.legend(['Train'], loc='upper left')\n",
    "    plt.show()\n",
    "  \n",
    "# Print the mean and standard deviation of the scores\n",
    "print(f'Mean f1_score: {np.mean(scores):.3f} +/- {np.std(scores):.3f}')"
   ]
  },
  {
   "cell_type": "markdown",
   "id": "b37fccfc-a8d6-48e5-9ac4-ee327f4ab96c",
   "metadata": {},
   "source": [
    "### Final Model Fit"
   ]
  },
  {
   "cell_type": "code",
   "execution_count": null,
   "id": "428bd85c-63ec-473f-b2dd-ce974d650d15",
   "metadata": {},
   "outputs": [],
   "source": [
    "#Final fit\n",
    "hist = model.fit(x_train, y_train, validation_data=(x_test, y_test), epochs=epochs, batch_size=batch_size, class_weight = class_weights)\n",
    "\n",
    "#F1 Score\n",
    "sns.set()\n",
    "acc = hist.history['f1_score']\n",
    "val = hist.history['val_f1_score']\n",
    "epochs = range(1, len(acc) + 1)\n",
    "\n",
    "plt.plot(epochs, acc, '-', label='Training accuracy')\n",
    "plt.plot(epochs, val, ':', label='Validation accuracy')\n",
    "plt.title('Training and Validation Accuracy')\n",
    "plt.xlabel('Epoch')\n",
    "plt.ylabel('f1 Score')\n",
    "plt.legend(loc='lower right')\n",
    "plt.plot()"
   ]
  },
  {
   "cell_type": "code",
   "execution_count": null,
   "id": "52ca9654-615d-44cf-b8cc-0e4bdf0cfe31",
   "metadata": {},
   "outputs": [],
   "source": [
    "#Confusion Matrix\n",
    "y_predicted = model.predict(x_test) > 0.5\n",
    "mat = confusion_matrix(y_test, y_predicted)\n",
    "labels = ['Not interested', 'Interested']\n",
    " \n",
    "sns.heatmap(mat, square=True, annot=True, fmt='d', cbar=False, cmap='Blues',\n",
    "            xticklabels=labels, yticklabels=labels)\n",
    " \n",
    "plt.xlabel('Predicted label')\n",
    "plt.ylabel('Actual label')"
   ]
  },
  {
   "cell_type": "code",
   "execution_count": null,
   "id": "2ced38fe-6b58-4fe1-9230-9eb749d6b3b9",
   "metadata": {},
   "outputs": [],
   "source": []
  }
 ],
 "metadata": {
  "kernelspec": {
   "display_name": "Python 3 (ipykernel)",
   "language": "python",
   "name": "python3"
  },
  "language_info": {
   "codemirror_mode": {
    "name": "ipython",
    "version": 3
   },
   "file_extension": ".py",
   "mimetype": "text/x-python",
   "name": "python",
   "nbconvert_exporter": "python",
   "pygments_lexer": "ipython3",
   "version": "3.11.6"
  }
 },
 "nbformat": 4,
 "nbformat_minor": 5
}
