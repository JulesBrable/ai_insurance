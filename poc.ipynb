{
 "cells": [
  {
   "cell_type": "code",
   "execution_count": 1,
   "metadata": {},
   "outputs": [
    {
     "name": "stderr",
     "output_type": "stream",
     "text": [
      "2024-03-15 17:42:10.629 WARNING streamlit.runtime.caching.cache_data_api: No runtime found, using MemoryCacheStorageManager\n"
     ]
    }
   ],
   "source": [
    "import pandas as pd\n",
    "from sklearn.model_selection import train_test_split  \n",
    "from sklearn.pipeline import Pipeline  \n",
    "from sklearn.ensemble import RandomForestClassifier\n",
    "\n",
    "from src.etl import get_features_by_type\n",
    "from src.models.training import get_model_configs, train_model_gscv, save_model_pickle\n",
    "from src.models.evaluation import predict_from_fitted_model, get_metrics\n",
    "from src.models.preprocessing import create_preprocessor"
   ]
  },
  {
   "cell_type": "code",
   "execution_count": 2,
   "metadata": {},
   "outputs": [],
   "source": [
    "df = pd.read_csv(\"https://minio.lab.sspcloud.fr/jbrablx/ai_insurance/raw/train.csv\")"
   ]
  },
  {
   "cell_type": "code",
   "execution_count": 3,
   "metadata": {},
   "outputs": [
    {
     "name": "stdout",
     "output_type": "stream",
     "text": [
      "<class 'pandas.core.frame.DataFrame'>\n",
      "RangeIndex: 381109 entries, 0 to 381108\n",
      "Data columns (total 12 columns):\n",
      " #   Column                Non-Null Count   Dtype  \n",
      "---  ------                --------------   -----  \n",
      " 0   id                    381109 non-null  int64  \n",
      " 1   Gender                381109 non-null  object \n",
      " 2   Age                   381109 non-null  int64  \n",
      " 3   Driving_License       381109 non-null  int64  \n",
      " 4   Region_Code           381109 non-null  float64\n",
      " 5   Previously_Insured    381109 non-null  int64  \n",
      " 6   Vehicle_Age           381109 non-null  object \n",
      " 7   Vehicle_Damage        381109 non-null  object \n",
      " 8   Annual_Premium        381109 non-null  float64\n",
      " 9   Policy_Sales_Channel  381109 non-null  float64\n",
      " 10  Vintage               381109 non-null  int64  \n",
      " 11  Response              381109 non-null  int64  \n",
      "dtypes: float64(3), int64(6), object(3)\n",
      "memory usage: 34.9+ MB\n"
     ]
    }
   ],
   "source": [
    "df.info()"
   ]
  },
  {
   "cell_type": "code",
   "execution_count": 4,
   "metadata": {},
   "outputs": [],
   "source": [
    "df.drop(['id'], axis=1, inplace=True)"
   ]
  },
  {
   "cell_type": "code",
   "execution_count": 5,
   "metadata": {},
   "outputs": [
    {
     "data": {
      "text/plain": [
       "(['Age',\n",
       "  'Driving_License',\n",
       "  'Region_Code',\n",
       "  'Previously_Insured',\n",
       "  'Annual_Premium',\n",
       "  'Policy_Sales_Channel',\n",
       "  'Vintage',\n",
       "  'Response'],\n",
       " ['Gender', 'Vehicle_Age', 'Vehicle_Damage'])"
      ]
     },
     "execution_count": 5,
     "metadata": {},
     "output_type": "execute_result"
    }
   ],
   "source": [
    "get_features_by_type(df, df.columns)"
   ]
  },
  {
   "cell_type": "code",
   "execution_count": 6,
   "metadata": {},
   "outputs": [
    {
     "data": {
      "text/plain": [
       "count    381109.000000\n",
       "mean      30564.389581\n",
       "std       17213.155057\n",
       "min        2630.000000\n",
       "25%       24405.000000\n",
       "50%       31669.000000\n",
       "75%       39400.000000\n",
       "max      540165.000000\n",
       "Name: Annual_Premium, dtype: float64"
      ]
     },
     "execution_count": 6,
     "metadata": {},
     "output_type": "execute_result"
    }
   ],
   "source": [
    "df[\"Annual_Premium\"].describe()"
   ]
  },
  {
   "cell_type": "code",
   "execution_count": 7,
   "metadata": {},
   "outputs": [
    {
     "data": {
      "text/plain": [
       "269"
      ]
     },
     "execution_count": 7,
     "metadata": {},
     "output_type": "execute_result"
    }
   ],
   "source": [
    "df.duplicated().sum()"
   ]
  },
  {
   "cell_type": "code",
   "execution_count": 8,
   "metadata": {},
   "outputs": [],
   "source": [
    "df.drop_duplicates(inplace=True)"
   ]
  },
  {
   "cell_type": "code",
   "execution_count": 9,
   "metadata": {},
   "outputs": [],
   "source": [
    "X = df.drop('Response', axis=1)  \n",
    "y = df['Response']"
   ]
  },
  {
   "cell_type": "code",
   "execution_count": 10,
   "metadata": {},
   "outputs": [],
   "source": [
    "X_train, X_test, y_train, y_test = train_test_split(X, y, test_size=0.2, random_state=42)"
   ]
  },
  {
   "cell_type": "code",
   "execution_count": 11,
   "metadata": {},
   "outputs": [],
   "source": [
    "num_features = ['Age', 'Annual_Premium', 'Vintage']\n",
    "cat_features = ['Gender', 'Vehicle_Age', 'Driving_License', 'Region_Code', 'Previously_Insured', 'Vehicle_Damage', 'Policy_Sales_Channel'] "
   ]
  },
  {
   "cell_type": "code",
   "execution_count": 13,
   "metadata": {},
   "outputs": [],
   "source": [
    "param_grid = {\n",
    "    'model__n_estimators': [100, 200, 300],\n",
    "    'model__max_depth': [10, 20, 30]\n",
    "}\n",
    "\n",
    "params_skf = {\n",
    "    \"n_splits\": 5, \"shuffle\": True, \"random_state\": 42\n",
    "}\n",
    "\n",
    "params_gscv = {\n",
    "    \"scoring\": [\"accuracy\", \"precision\", \"recall\", \"f1\", \"roc_auc\"],\n",
    "    \"refit\": \"f1\",\n",
    "    \"verbose\": 3,\n",
    "    \"n_jobs\": -1\n",
    "}\n",
    "\n",
    "preprocessor = create_preprocessor(num_features, cat_features)\n",
    "model = RandomForestClassifier(random_state=42)"
   ]
  },
  {
   "cell_type": "code",
   "execution_count": 14,
   "metadata": {},
   "outputs": [
    {
     "name": "stdout",
     "output_type": "stream",
     "text": [
      "Fitting 5 folds for each of 9 candidates, totalling 45 fits\n"
     ]
    },
    {
     "name": "stderr",
     "output_type": "stream",
     "text": [
      "/opt/mamba/lib/python3.11/site-packages/sklearn/metrics/_classification.py:1509: UndefinedMetricWarning: Precision is ill-defined and being set to 0.0 due to no predicted samples. Use `zero_division` parameter to control this behavior.\n",
      "  _warn_prf(average, modifier, f\"{metric.capitalize()} is\", len(result))\n"
     ]
    },
    {
     "name": "stdout",
     "output_type": "stream",
     "text": [
      "[CV 1/5] END model__max_depth=10, model__n_estimators=100; accuracy: (test=0.877) f1: (test=0.000) precision: (test=0.000) recall: (test=0.000) roc_auc: (test=0.854) total time=  20.5s\n"
     ]
    },
    {
     "name": "stderr",
     "output_type": "stream",
     "text": [
      "/opt/mamba/lib/python3.11/site-packages/sklearn/metrics/_classification.py:1509: UndefinedMetricWarning: Precision is ill-defined and being set to 0.0 due to no predicted samples. Use `zero_division` parameter to control this behavior.\n",
      "  _warn_prf(average, modifier, f\"{metric.capitalize()} is\", len(result))\n",
      "/opt/mamba/lib/python3.11/site-packages/sklearn/metrics/_classification.py:1509: UndefinedMetricWarning: Precision is ill-defined and being set to 0.0 due to no predicted samples. Use `zero_division` parameter to control this behavior.\n",
      "  _warn_prf(average, modifier, f\"{metric.capitalize()} is\", len(result))\n"
     ]
    },
    {
     "name": "stdout",
     "output_type": "stream",
     "text": [
      "[CV 4/5] END model__max_depth=10, model__n_estimators=100; accuracy: (test=0.877) f1: (test=0.000) precision: (test=0.000) recall: (test=0.000) roc_auc: (test=0.849) total time=  21.0s\n",
      "[CV 3/5] END model__max_depth=10, model__n_estimators=100; accuracy: (test=0.877) f1: (test=0.000) precision: (test=0.000) recall: (test=0.000) roc_auc: (test=0.851) total time=  21.4s\n"
     ]
    },
    {
     "name": "stderr",
     "output_type": "stream",
     "text": [
      "/opt/mamba/lib/python3.11/site-packages/sklearn/metrics/_classification.py:1509: UndefinedMetricWarning: Precision is ill-defined and being set to 0.0 due to no predicted samples. Use `zero_division` parameter to control this behavior.\n",
      "  _warn_prf(average, modifier, f\"{metric.capitalize()} is\", len(result))\n",
      "/opt/mamba/lib/python3.11/site-packages/sklearn/metrics/_classification.py:1509: UndefinedMetricWarning: Precision is ill-defined and being set to 0.0 due to no predicted samples. Use `zero_division` parameter to control this behavior.\n",
      "  _warn_prf(average, modifier, f\"{metric.capitalize()} is\", len(result))\n"
     ]
    },
    {
     "name": "stdout",
     "output_type": "stream",
     "text": [
      "[CV 2/5] END model__max_depth=10, model__n_estimators=100; accuracy: (test=0.877) f1: (test=0.000) precision: (test=0.000) recall: (test=0.000) roc_auc: (test=0.852) total time=  23.6s\n",
      "[CV 5/5] END model__max_depth=10, model__n_estimators=100; accuracy: (test=0.877) f1: (test=0.000) precision: (test=0.000) recall: (test=0.000) roc_auc: (test=0.850) total time=  23.4s\n"
     ]
    },
    {
     "name": "stderr",
     "output_type": "stream",
     "text": [
      "/opt/mamba/lib/python3.11/site-packages/sklearn/metrics/_classification.py:1509: UndefinedMetricWarning: Precision is ill-defined and being set to 0.0 due to no predicted samples. Use `zero_division` parameter to control this behavior.\n",
      "  _warn_prf(average, modifier, f\"{metric.capitalize()} is\", len(result))\n"
     ]
    },
    {
     "name": "stdout",
     "output_type": "stream",
     "text": [
      "[CV 1/5] END model__max_depth=10, model__n_estimators=200; accuracy: (test=0.877) f1: (test=0.000) precision: (test=0.000) recall: (test=0.000) roc_auc: (test=0.855) total time=  37.5s\n"
     ]
    },
    {
     "name": "stderr",
     "output_type": "stream",
     "text": [
      "/opt/mamba/lib/python3.11/site-packages/sklearn/metrics/_classification.py:1509: UndefinedMetricWarning: Precision is ill-defined and being set to 0.0 due to no predicted samples. Use `zero_division` parameter to control this behavior.\n",
      "  _warn_prf(average, modifier, f\"{metric.capitalize()} is\", len(result))\n"
     ]
    },
    {
     "name": "stdout",
     "output_type": "stream",
     "text": [
      "[CV 4/5] END model__max_depth=10, model__n_estimators=200; accuracy: (test=0.877) f1: (test=0.000) precision: (test=0.000) recall: (test=0.000) roc_auc: (test=0.850) total time=  38.3s\n"
     ]
    },
    {
     "name": "stderr",
     "output_type": "stream",
     "text": [
      "/opt/mamba/lib/python3.11/site-packages/sklearn/metrics/_classification.py:1509: UndefinedMetricWarning: Precision is ill-defined and being set to 0.0 due to no predicted samples. Use `zero_division` parameter to control this behavior.\n",
      "  _warn_prf(average, modifier, f\"{metric.capitalize()} is\", len(result))\n",
      "/opt/mamba/lib/python3.11/site-packages/sklearn/metrics/_classification.py:1509: UndefinedMetricWarning: Precision is ill-defined and being set to 0.0 due to no predicted samples. Use `zero_division` parameter to control this behavior.\n",
      "  _warn_prf(average, modifier, f\"{metric.capitalize()} is\", len(result))\n"
     ]
    },
    {
     "name": "stdout",
     "output_type": "stream",
     "text": [
      "[CV 3/5] END model__max_depth=10, model__n_estimators=200; accuracy: (test=0.877) f1: (test=0.000) precision: (test=0.000) recall: (test=0.000) roc_auc: (test=0.851) total time=  39.8s\n",
      "[CV 5/5] END model__max_depth=10, model__n_estimators=200; accuracy: (test=0.877) f1: (test=0.000) precision: (test=0.000) recall: (test=0.000) roc_auc: (test=0.851) total time=  40.2s\n"
     ]
    },
    {
     "name": "stderr",
     "output_type": "stream",
     "text": [
      "/opt/mamba/lib/python3.11/site-packages/sklearn/metrics/_classification.py:1509: UndefinedMetricWarning: Precision is ill-defined and being set to 0.0 due to no predicted samples. Use `zero_division` parameter to control this behavior.\n",
      "  _warn_prf(average, modifier, f\"{metric.capitalize()} is\", len(result))\n"
     ]
    },
    {
     "name": "stdout",
     "output_type": "stream",
     "text": [
      "[CV 2/5] END model__max_depth=10, model__n_estimators=200; accuracy: (test=0.877) f1: (test=0.000) precision: (test=0.000) recall: (test=0.000) roc_auc: (test=0.852) total time=  41.7s\n"
     ]
    },
    {
     "name": "stderr",
     "output_type": "stream",
     "text": [
      "/opt/mamba/lib/python3.11/site-packages/sklearn/metrics/_classification.py:1509: UndefinedMetricWarning: Precision is ill-defined and being set to 0.0 due to no predicted samples. Use `zero_division` parameter to control this behavior.\n",
      "  _warn_prf(average, modifier, f\"{metric.capitalize()} is\", len(result))\n"
     ]
    },
    {
     "name": "stdout",
     "output_type": "stream",
     "text": [
      "[CV 1/5] END model__max_depth=10, model__n_estimators=300; accuracy: (test=0.877) f1: (test=0.000) precision: (test=0.000) recall: (test=0.000) roc_auc: (test=0.855) total time=  56.7s\n"
     ]
    },
    {
     "name": "stderr",
     "output_type": "stream",
     "text": [
      "/opt/mamba/lib/python3.11/site-packages/sklearn/metrics/_classification.py:1509: UndefinedMetricWarning: Precision is ill-defined and being set to 0.0 due to no predicted samples. Use `zero_division` parameter to control this behavior.\n",
      "  _warn_prf(average, modifier, f\"{metric.capitalize()} is\", len(result))\n",
      "/opt/mamba/lib/python3.11/site-packages/sklearn/metrics/_classification.py:1509: UndefinedMetricWarning: Precision is ill-defined and being set to 0.0 due to no predicted samples. Use `zero_division` parameter to control this behavior.\n",
      "  _warn_prf(average, modifier, f\"{metric.capitalize()} is\", len(result))\n"
     ]
    },
    {
     "name": "stdout",
     "output_type": "stream",
     "text": [
      "[CV 4/5] END model__max_depth=10, model__n_estimators=300; accuracy: (test=0.877) f1: (test=0.000) precision: (test=0.000) recall: (test=0.000) roc_auc: (test=0.850) total time=  57.7s\n"
     ]
    },
    {
     "name": "stderr",
     "output_type": "stream",
     "text": [
      "/opt/mamba/lib/python3.11/site-packages/sklearn/metrics/_classification.py:1509: UndefinedMetricWarning: Precision is ill-defined and being set to 0.0 due to no predicted samples. Use `zero_division` parameter to control this behavior.\n",
      "  _warn_prf(average, modifier, f\"{metric.capitalize()} is\", len(result))\n",
      "/opt/mamba/lib/python3.11/site-packages/sklearn/metrics/_classification.py:1509: UndefinedMetricWarning: Precision is ill-defined and being set to 0.0 due to no predicted samples. Use `zero_division` parameter to control this behavior.\n",
      "  _warn_prf(average, modifier, f\"{metric.capitalize()} is\", len(result))\n"
     ]
    },
    {
     "name": "stdout",
     "output_type": "stream",
     "text": [
      "[CV 2/5] END model__max_depth=10, model__n_estimators=300; accuracy: (test=0.877) f1: (test=0.000) precision: (test=0.000) recall: (test=0.000) roc_auc: (test=0.853) total time=  58.9s\n",
      "[CV 5/5] END model__max_depth=10, model__n_estimators=300; accuracy: (test=0.877) f1: (test=0.000) precision: (test=0.000) recall: (test=0.000) roc_auc: (test=0.850) total time=  59.2s\n",
      "[CV 3/5] END model__max_depth=10, model__n_estimators=300; accuracy: (test=0.877) f1: (test=0.000) precision: (test=0.000) recall: (test=0.000) roc_auc: (test=0.851) total time=  59.7s\n",
      "[CV 4/5] END model__max_depth=20, model__n_estimators=100; accuracy: (test=0.877) f1: (test=0.001) precision: (test=0.444) recall: (test=0.001) roc_auc: (test=0.854) total time= 1.3min\n",
      "[CV 3/5] END model__max_depth=20, model__n_estimators=100; accuracy: (test=0.877) f1: (test=0.001) precision: (test=0.500) recall: (test=0.000) roc_auc: (test=0.855) total time= 1.3min\n",
      "[CV 1/5] END model__max_depth=20, model__n_estimators=100; accuracy: (test=0.877) f1: (test=0.001) precision: (test=0.375) recall: (test=0.000) roc_auc: (test=0.856) total time= 1.3min\n",
      "[CV 2/5] END model__max_depth=20, model__n_estimators=100; accuracy: (test=0.877) f1: (test=0.001) precision: (test=0.250) recall: (test=0.000) roc_auc: (test=0.855) total time= 1.4min\n",
      "[CV 5/5] END model__max_depth=20, model__n_estimators=100; accuracy: (test=0.877) f1: (test=0.000) precision: (test=0.111) recall: (test=0.000) roc_auc: (test=0.855) total time= 1.4min\n",
      "[CV 4/5] END model__max_depth=20, model__n_estimators=200; accuracy: (test=0.877) f1: (test=0.001) precision: (test=0.417) recall: (test=0.001) roc_auc: (test=0.854) total time= 2.4min\n"
     ]
    },
    {
     "name": "stderr",
     "output_type": "stream",
     "text": [
      "/opt/mamba/lib/python3.11/site-packages/sklearn/metrics/_classification.py:1509: UndefinedMetricWarning: Precision is ill-defined and being set to 0.0 due to no predicted samples. Use `zero_division` parameter to control this behavior.\n",
      "  _warn_prf(average, modifier, f\"{metric.capitalize()} is\", len(result))\n"
     ]
    },
    {
     "name": "stdout",
     "output_type": "stream",
     "text": [
      "[CV 2/5] END model__max_depth=20, model__n_estimators=200; accuracy: (test=0.877) f1: (test=0.001) precision: (test=0.333) recall: (test=0.000) roc_auc: (test=0.855) total time= 2.5min\n",
      "[CV 3/5] END model__max_depth=20, model__n_estimators=200; accuracy: (test=0.877) f1: (test=0.000) precision: (test=0.000) recall: (test=0.000) roc_auc: (test=0.855) total time= 2.5min\n",
      "[CV 1/5] END model__max_depth=20, model__n_estimators=200; accuracy: (test=0.877) f1: (test=0.000) precision: (test=0.333) recall: (test=0.000) roc_auc: (test=0.858) total time= 2.6min\n",
      "[CV 5/5] END model__max_depth=20, model__n_estimators=200; accuracy: (test=0.877) f1: (test=0.000) precision: (test=0.111) recall: (test=0.000) roc_auc: (test=0.855) total time= 2.6min\n",
      "[CV 2/5] END model__max_depth=30, model__n_estimators=100; accuracy: (test=0.877) f1: (test=0.044) precision: (test=0.482) recall: (test=0.023) roc_auc: (test=0.852) total time= 2.6min\n",
      "[CV 3/5] END model__max_depth=30, model__n_estimators=100; accuracy: (test=0.876) f1: (test=0.037) precision: (test=0.421) recall: (test=0.020) roc_auc: (test=0.851) total time= 2.7min\n",
      "[CV 1/5] END model__max_depth=30, model__n_estimators=100; accuracy: (test=0.877) f1: (test=0.042) precision: (test=0.478) recall: (test=0.022) roc_auc: (test=0.854) total time= 2.8min\n",
      "[CV 4/5] END model__max_depth=30, model__n_estimators=100; accuracy: (test=0.877) f1: (test=0.044) precision: (test=0.465) recall: (test=0.023) roc_auc: (test=0.850) total time= 2.7min\n",
      "[CV 5/5] END model__max_depth=30, model__n_estimators=100; accuracy: (test=0.877) f1: (test=0.036) precision: (test=0.445) recall: (test=0.019) roc_auc: (test=0.850) total time= 2.8min\n",
      "[CV 3/5] END model__max_depth=20, model__n_estimators=300; accuracy: (test=0.877) f1: (test=0.000) precision: (test=1.000) recall: (test=0.000) roc_auc: (test=0.855) total time= 3.6min\n",
      "[CV 5/5] END model__max_depth=20, model__n_estimators=300; accuracy: (test=0.877) f1: (test=0.000) precision: (test=0.125) recall: (test=0.000) roc_auc: (test=0.855) total time= 3.7min\n",
      "[CV 2/5] END model__max_depth=20, model__n_estimators=300; accuracy: (test=0.877) f1: (test=0.000) precision: (test=0.250) recall: (test=0.000) roc_auc: (test=0.856) total time= 3.7min\n",
      "[CV 4/5] END model__max_depth=20, model__n_estimators=300; accuracy: (test=0.877) f1: (test=0.001) precision: (test=0.500) recall: (test=0.000) roc_auc: (test=0.855) total time= 3.7min\n",
      "[CV 1/5] END model__max_depth=20, model__n_estimators=300; accuracy: (test=0.877) f1: (test=0.000) precision: (test=0.000) recall: (test=0.000) roc_auc: (test=0.858) total time= 3.7min\n",
      "[CV 2/5] END model__max_depth=30, model__n_estimators=200; accuracy: (test=0.877) f1: (test=0.042) precision: (test=0.478) recall: (test=0.022) roc_auc: (test=0.852) total time= 5.2min\n",
      "[CV 5/5] END model__max_depth=30, model__n_estimators=200; accuracy: (test=0.877) f1: (test=0.033) precision: (test=0.441) recall: (test=0.017) roc_auc: (test=0.851) total time= 5.2min\n",
      "[CV 1/5] END model__max_depth=30, model__n_estimators=200; accuracy: (test=0.877) f1: (test=0.039) precision: (test=0.484) recall: (test=0.021) roc_auc: (test=0.854) total time= 5.4min\n",
      "[CV 4/5] END model__max_depth=30, model__n_estimators=200; accuracy: (test=0.877) f1: (test=0.040) precision: (test=0.466) recall: (test=0.021) roc_auc: (test=0.851) total time= 5.3min\n",
      "[CV 3/5] END model__max_depth=30, model__n_estimators=200; accuracy: (test=0.876) f1: (test=0.035) precision: (test=0.433) recall: (test=0.018) roc_auc: (test=0.852) total time= 5.4min\n",
      "[CV 1/5] END model__max_depth=30, model__n_estimators=300; accuracy: (test=0.877) f1: (test=0.037) precision: (test=0.472) recall: (test=0.019) roc_auc: (test=0.854) total time= 7.8min\n",
      "[CV 2/5] END model__max_depth=30, model__n_estimators=300; accuracy: (test=0.877) f1: (test=0.040) precision: (test=0.471) recall: (test=0.021) roc_auc: (test=0.852) total time= 7.8min\n",
      "[CV 3/5] END model__max_depth=30, model__n_estimators=300; accuracy: (test=0.876) f1: (test=0.036) precision: (test=0.429) recall: (test=0.019) roc_auc: (test=0.852) total time= 7.9min\n",
      "[CV 5/5] END model__max_depth=30, model__n_estimators=300; accuracy: (test=0.877) f1: (test=0.032) precision: (test=0.446) recall: (test=0.016) roc_auc: (test=0.851) total time= 8.1min\n",
      "[CV 4/5] END model__max_depth=30, model__n_estimators=300; accuracy: (test=0.876) f1: (test=0.036) precision: (test=0.440) recall: (test=0.019) roc_auc: (test=0.851) total time= 8.2min\n"
     ]
    }
   ],
   "source": [
    "grid_search_fitted = train_model_gscv(\n",
    "    model=model,\n",
    "    X_train=X_train,\n",
    "    y_train=y_train,\n",
    "    preprocessor=preprocessor,\n",
    "    param_grid=param_grid,\n",
    "    params_skf=params_skf,\n",
    "    params_gscv=params_gscv,\n",
    "    resampling_method=None\n",
    ")"
   ]
  },
  {
   "cell_type": "code",
   "execution_count": 19,
   "metadata": {},
   "outputs": [],
   "source": [
    "best_model = grid_search_fitted.best_estimator_\n",
    "y_proba, y_pred = predict_from_fitted_model(best_model, X_test, 0.5)"
   ]
  },
  {
   "cell_type": "code",
   "execution_count": 22,
   "metadata": {},
   "outputs": [
    {
     "data": {
      "text/plain": [
       "(           Metric Value\n",
       " 0  Accuracy Score  0.88\n",
       " 1   ROC AUC Score  0.85\n",
       " 2    Best cut-off  0.50,\n",
       " '              precision    recall  f1-score   support\\n\\n           0       0.88      1.00      0.93     66917\\n           1       0.46      0.02      0.04      9251\\n\\n    accuracy                           0.88     76168\\n   macro avg       0.67      0.51      0.49     76168\\nweighted avg       0.83      0.88      0.83     76168\\n')"
      ]
     },
     "execution_count": 22,
     "metadata": {},
     "output_type": "execute_result"
    }
   ],
   "source": [
    "from sklearn.metrics import confusion_matrix\n",
    "confusion_matrix(y_test, y_pred)\n",
    "\n",
    "get_metrics(y_test, y_pred, y_proba, 0.50)"
   ]
  },
  {
   "cell_type": "code",
   "execution_count": 23,
   "metadata": {},
   "outputs": [
    {
     "ename": "FileNotFoundError",
     "evalue": "[Errno 2] No such file or directory: 'pickle/randomforestclassifier.pkl'",
     "output_type": "error",
     "traceback": [
      "\u001b[0;31m---------------------------------------------------------------------------\u001b[0m",
      "\u001b[0;31mFileNotFoundError\u001b[0m                         Traceback (most recent call last)",
      "\u001b[1;32m/home/onyxia/work/ai_insurance/poc.ipynb Cell 16\u001b[0m line \u001b[0;36m1\n\u001b[0;32m----> <a href='vscode-notebook-cell://user-jbrablx-208411-0.user.lab.sspcloud.fr/home/onyxia/work/ai_insurance/poc.ipynb#X46sdnNjb2RlLXJlbW90ZQ%3D%3D?line=0'>1</a>\u001b[0m save_model_pickle(model, \u001b[39mNone\u001b[39;49;00m, best_model)\n",
      "File \u001b[0;32m~/work/ai_insurance/src/models/training.py:59\u001b[0m, in \u001b[0;36msave_model_pickle\u001b[0;34m(model, method, fitted_pipeline)\u001b[0m\n\u001b[1;32m     52\u001b[0m file_name_suffix \u001b[39m=\u001b[39m (\n\u001b[1;32m     53\u001b[0m     \u001b[39m\"\u001b[39m\u001b[39m_smote.pkl\u001b[39m\u001b[39m\"\u001b[39m \u001b[39mif\u001b[39;00m method \u001b[39m==\u001b[39m \u001b[39m\"\u001b[39m\u001b[39mSMOTE\u001b[39m\u001b[39m\"\u001b[39m\n\u001b[1;32m     54\u001b[0m     \u001b[39melse\u001b[39;00m \u001b[39m\"\u001b[39m\u001b[39m_over.pkl\u001b[39m\u001b[39m\"\u001b[39m \u001b[39mif\u001b[39;00m method \u001b[39m==\u001b[39m \u001b[39m\"\u001b[39m\u001b[39mOVER\u001b[39m\u001b[39m\"\u001b[39m\n\u001b[1;32m     55\u001b[0m     \u001b[39melse\u001b[39;00m \u001b[39m\"\u001b[39m\u001b[39m.pkl\u001b[39m\u001b[39m\"\u001b[39m\n\u001b[1;32m     56\u001b[0m )\n\u001b[1;32m     57\u001b[0m file_path \u001b[39m=\u001b[39m \u001b[39mf\u001b[39m\u001b[39m'\u001b[39m\u001b[39mpickle/\u001b[39m\u001b[39m{\u001b[39;00mmodel_name\u001b[39m}\u001b[39;00m\u001b[39m{\u001b[39;00mfile_name_suffix\u001b[39m}\u001b[39;00m\u001b[39m'\u001b[39m\n\u001b[0;32m---> 59\u001b[0m \u001b[39mwith\u001b[39;00m \u001b[39mopen\u001b[39;49m(file_path, \u001b[39m'\u001b[39;49m\u001b[39mwb\u001b[39;49m\u001b[39m'\u001b[39;49m) \u001b[39mas\u001b[39;00m file:\n\u001b[1;32m     60\u001b[0m     pickle\u001b[39m.\u001b[39mdump(fitted_pipeline, file)\n",
      "\u001b[0;31mFileNotFoundError\u001b[0m: [Errno 2] No such file or directory: 'pickle/randomforestclassifier.pkl'"
     ]
    }
   ],
   "source": [
    "save_model_pickle(model, None, best_model)"
   ]
  },
  {
   "cell_type": "code",
   "execution_count": 6,
   "metadata": {},
   "outputs": [
    {
     "ename": "FileNotFoundError",
     "evalue": "[Errno 2] No such file or directory: 'https://minio.lab.sspcloud.fr/jbrablx/ai_insurance/outputs/Logistic_Regression/resampling_none.pkl'",
     "output_type": "error",
     "traceback": [
      "\u001b[0;31m---------------------------------------------------------------------------\u001b[0m",
      "\u001b[0;31mFileNotFoundError\u001b[0m                         Traceback (most recent call last)",
      "\u001b[1;32m/home/onyxia/work/ai_insurance/poc.ipynb Cell 17\u001b[0m line \u001b[0;36m4\n\u001b[1;32m      <a href='vscode-notebook-cell://user-jbrablx-208411-0.user.lab.sspcloud.fr/home/onyxia/work/ai_insurance/poc.ipynb#X34sdnNjb2RlLXJlbW90ZQ%3D%3D?line=0'>1</a>\u001b[0m \u001b[39mimport\u001b[39;00m \u001b[39mpandas\u001b[39;00m \u001b[39mas\u001b[39;00m \u001b[39mpd\u001b[39;00m\n\u001b[1;32m      <a href='vscode-notebook-cell://user-jbrablx-208411-0.user.lab.sspcloud.fr/home/onyxia/work/ai_insurance/poc.ipynb#X34sdnNjb2RlLXJlbW90ZQ%3D%3D?line=1'>2</a>\u001b[0m \u001b[39mimport\u001b[39;00m \u001b[39mpickle\u001b[39;00m\n\u001b[0;32m----> <a href='vscode-notebook-cell://user-jbrablx-208411-0.user.lab.sspcloud.fr/home/onyxia/work/ai_insurance/poc.ipynb#X34sdnNjb2RlLXJlbW90ZQ%3D%3D?line=3'>4</a>\u001b[0m \u001b[39mwith\u001b[39;00m \u001b[39mopen\u001b[39;49m(\u001b[39m'\u001b[39;49m\u001b[39mhttps://minio.lab.sspcloud.fr/jbrablx/ai_insurance/outputs/Logistic_Regression/resampling_none.pkl\u001b[39;49m\u001b[39m'\u001b[39;49m, \u001b[39m'\u001b[39;49m\u001b[39mr\u001b[39;49m\u001b[39m'\u001b[39;49m) \u001b[39mas\u001b[39;00m f:\n\u001b[1;32m      <a href='vscode-notebook-cell://user-jbrablx-208411-0.user.lab.sspcloud.fr/home/onyxia/work/ai_insurance/poc.ipynb#X34sdnNjb2RlLXJlbW90ZQ%3D%3D?line=4'>5</a>\u001b[0m     m \u001b[39m=\u001b[39m pickle\u001b[39m.\u001b[39mload(f)\n\u001b[1;32m      <a href='vscode-notebook-cell://user-jbrablx-208411-0.user.lab.sspcloud.fr/home/onyxia/work/ai_insurance/poc.ipynb#X34sdnNjb2RlLXJlbW90ZQ%3D%3D?line=5'>6</a>\u001b[0m m\n",
      "File \u001b[0;32m/opt/mamba/lib/python3.11/site-packages/IPython/core/interactiveshell.py:324\u001b[0m, in \u001b[0;36m_modified_open\u001b[0;34m(file, *args, **kwargs)\u001b[0m\n\u001b[1;32m    317\u001b[0m \u001b[39mif\u001b[39;00m file \u001b[39min\u001b[39;00m {\u001b[39m0\u001b[39m, \u001b[39m1\u001b[39m, \u001b[39m2\u001b[39m}:\n\u001b[1;32m    318\u001b[0m     \u001b[39mraise\u001b[39;00m \u001b[39mValueError\u001b[39;00m(\n\u001b[1;32m    319\u001b[0m         \u001b[39mf\u001b[39m\u001b[39m\"\u001b[39m\u001b[39mIPython won\u001b[39m\u001b[39m'\u001b[39m\u001b[39mt let you open fd=\u001b[39m\u001b[39m{\u001b[39;00mfile\u001b[39m}\u001b[39;00m\u001b[39m by default \u001b[39m\u001b[39m\"\u001b[39m\n\u001b[1;32m    320\u001b[0m         \u001b[39m\"\u001b[39m\u001b[39mas it is likely to crash IPython. If you know what you are doing, \u001b[39m\u001b[39m\"\u001b[39m\n\u001b[1;32m    321\u001b[0m         \u001b[39m\"\u001b[39m\u001b[39myou can use builtins\u001b[39m\u001b[39m'\u001b[39m\u001b[39m open.\u001b[39m\u001b[39m\"\u001b[39m\n\u001b[1;32m    322\u001b[0m     )\n\u001b[0;32m--> 324\u001b[0m \u001b[39mreturn\u001b[39;00m io_open(file, \u001b[39m*\u001b[39;49margs, \u001b[39m*\u001b[39;49m\u001b[39m*\u001b[39;49mkwargs)\n",
      "\u001b[0;31mFileNotFoundError\u001b[0m: [Errno 2] No such file or directory: 'https://minio.lab.sspcloud.fr/jbrablx/ai_insurance/outputs/Logistic_Regression/resampling_none.pkl'"
     ]
    }
   ],
   "source": [
    "import pandas as pd\n",
    "import pickle\n",
    "\n",
    "with open('https://minio.lab.sspcloud.fr/jbrablx/ai_insurance/outputs/Logistic_Regression/resampling_none.pkl', 'r') as f:\n",
    "    m = pickle.load(f)\n",
    "m"
   ]
  },
  {
   "cell_type": "code",
   "execution_count": 1,
   "metadata": {},
   "outputs": [
    {
     "ename": "FileNotFoundError",
     "evalue": "[Errno 2] No such file or directory: 'https://minio.lab.sspcloud.fr/s3/jbrablx/ai_insurance/outputs/Logistic_Regression/resampling_none.pkl'",
     "output_type": "error",
     "traceback": [
      "\u001b[0;31m---------------------------------------------------------------------------\u001b[0m",
      "\u001b[0;31mFileNotFoundError\u001b[0m                         Traceback (most recent call last)",
      "\u001b[1;32m/home/onyxia/work/ai_insurance/poc.ipynb Cell 17\u001b[0m line \u001b[0;36m7\n\u001b[1;32m      <a href='vscode-notebook-cell://user-jbrablx-208411-0.user.lab.sspcloud.fr/home/onyxia/work/ai_insurance/poc.ipynb#X22sdnNjb2RlLXJlbW90ZQ%3D%3D?line=4'>5</a>\u001b[0m m \u001b[39m=\u001b[39m \u001b[39m\"\u001b[39m\u001b[39mLogistic Regression\u001b[39m\u001b[39m\"\u001b[39m\n\u001b[1;32m      <a href='vscode-notebook-cell://user-jbrablx-208411-0.user.lab.sspcloud.fr/home/onyxia/work/ai_insurance/poc.ipynb#X22sdnNjb2RlLXJlbW90ZQ%3D%3D?line=5'>6</a>\u001b[0m method \u001b[39m=\u001b[39m \u001b[39m\"\u001b[39m\u001b[39mover\u001b[39m\u001b[39m\"\u001b[39m\n\u001b[0;32m----> <a href='vscode-notebook-cell://user-jbrablx-208411-0.user.lab.sspcloud.fr/home/onyxia/work/ai_insurance/poc.ipynb#X22sdnNjb2RlLXJlbW90ZQ%3D%3D?line=6'>7</a>\u001b[0m \u001b[39mwith\u001b[39;00m \u001b[39mopen\u001b[39;49m(\u001b[39mf\u001b[39;49m\u001b[39m'\u001b[39;49m\u001b[39mhttps://minio.lab.sspcloud.fr/s3/jbrablx/ai_insurance/outputs/Logistic_Regression/resampling_none.pkl\u001b[39;49m\u001b[39m'\u001b[39;49m, \u001b[39m'\u001b[39;49m\u001b[39mrb\u001b[39;49m\u001b[39m'\u001b[39;49m) \u001b[39mas\u001b[39;00m f:\n\u001b[1;32m      <a href='vscode-notebook-cell://user-jbrablx-208411-0.user.lab.sspcloud.fr/home/onyxia/work/ai_insurance/poc.ipynb#X22sdnNjb2RlLXJlbW90ZQ%3D%3D?line=7'>8</a>\u001b[0m         model \u001b[39m=\u001b[39m pickle\u001b[39m.\u001b[39mload(f)\n\u001b[1;32m     <a href='vscode-notebook-cell://user-jbrablx-208411-0.user.lab.sspcloud.fr/home/onyxia/work/ai_insurance/poc.ipynb#X22sdnNjb2RlLXJlbW90ZQ%3D%3D?line=9'>10</a>\u001b[0m y_proba, y_pred \u001b[39m=\u001b[39m \u001b[39meval\u001b[39m\u001b[39m.\u001b[39mpredict_from_fitted_model(model, X_test)\n",
      "File \u001b[0;32m/opt/mamba/lib/python3.11/site-packages/IPython/core/interactiveshell.py:324\u001b[0m, in \u001b[0;36m_modified_open\u001b[0;34m(file, *args, **kwargs)\u001b[0m\n\u001b[1;32m    317\u001b[0m \u001b[39mif\u001b[39;00m file \u001b[39min\u001b[39;00m {\u001b[39m0\u001b[39m, \u001b[39m1\u001b[39m, \u001b[39m2\u001b[39m}:\n\u001b[1;32m    318\u001b[0m     \u001b[39mraise\u001b[39;00m \u001b[39mValueError\u001b[39;00m(\n\u001b[1;32m    319\u001b[0m         \u001b[39mf\u001b[39m\u001b[39m\"\u001b[39m\u001b[39mIPython won\u001b[39m\u001b[39m'\u001b[39m\u001b[39mt let you open fd=\u001b[39m\u001b[39m{\u001b[39;00mfile\u001b[39m}\u001b[39;00m\u001b[39m by default \u001b[39m\u001b[39m\"\u001b[39m\n\u001b[1;32m    320\u001b[0m         \u001b[39m\"\u001b[39m\u001b[39mas it is likely to crash IPython. If you know what you are doing, \u001b[39m\u001b[39m\"\u001b[39m\n\u001b[1;32m    321\u001b[0m         \u001b[39m\"\u001b[39m\u001b[39myou can use builtins\u001b[39m\u001b[39m'\u001b[39m\u001b[39m open.\u001b[39m\u001b[39m\"\u001b[39m\n\u001b[1;32m    322\u001b[0m     )\n\u001b[0;32m--> 324\u001b[0m \u001b[39mreturn\u001b[39;00m io_open(file, \u001b[39m*\u001b[39;49margs, \u001b[39m*\u001b[39;49m\u001b[39m*\u001b[39;49mkwargs)\n",
      "\u001b[0;31mFileNotFoundError\u001b[0m: [Errno 2] No such file or directory: 'https://minio.lab.sspcloud.fr/s3/jbrablx/ai_insurance/outputs/Logistic_Regression/resampling_none.pkl'"
     ]
    }
   ],
   "source": [
    "import pickle\n",
    "import src.models.evaluation as eval\n",
    "from src.app.utils import display_classif_metrics\n",
    "\n",
    "m = \"Logistic Regression\"\n",
    "method = \"over\"\n",
    "with open(f'https://minio.lab.sspcloud.fr/s3/jbrablx/ai_insurance/outputs/Logistic_Regression/resampling_none.pkl', 'rb') as f:\n",
    "        model = pickle.load(f)\n",
    "\n",
    "y_proba, y_pred = eval.predict_from_fitted_model(model, X_test)\n",
    "metrics_df, classif_report = eval.get_metrics(y_test, y_pred, y_proba)"
   ]
  },
  {
   "cell_type": "code",
   "execution_count": 2,
   "metadata": {},
   "outputs": [
    {
     "ename": "FileNotFoundError",
     "evalue": "[Errno 2] No such file or directory: 'https://minio.lab.sspcloud.fr/s3/jbrablx/ai_insurance/'",
     "output_type": "error",
     "traceback": [
      "\u001b[0;31m---------------------------------------------------------------------------\u001b[0m",
      "\u001b[0;31mFileNotFoundError\u001b[0m                         Traceback (most recent call last)",
      "\u001b[1;32m/home/onyxia/work/ai_insurance/poc.ipynb Cell 18\u001b[0m line \u001b[0;36m3\n\u001b[1;32m      <a href='vscode-notebook-cell://user-jbrablx-208411-0.user.lab.sspcloud.fr/home/onyxia/work/ai_insurance/poc.ipynb#X33sdnNjb2RlLXJlbW90ZQ%3D%3D?line=0'>1</a>\u001b[0m \u001b[39mimport\u001b[39;00m \u001b[39mos\u001b[39;00m\n\u001b[0;32m----> <a href='vscode-notebook-cell://user-jbrablx-208411-0.user.lab.sspcloud.fr/home/onyxia/work/ai_insurance/poc.ipynb#X33sdnNjb2RlLXJlbW90ZQ%3D%3D?line=2'>3</a>\u001b[0m os\u001b[39m.\u001b[39;49mlistdir(\u001b[39m'\u001b[39;49m\u001b[39mhttps://minio.lab.sspcloud.fr/s3/jbrablx/ai_insurance/\u001b[39;49m\u001b[39m'\u001b[39;49m)\n",
      "\u001b[0;31mFileNotFoundError\u001b[0m: [Errno 2] No such file or directory: 'https://minio.lab.sspcloud.fr/s3/jbrablx/ai_insurance/'"
     ]
    }
   ],
   "source": [
    "import os\n",
    "\n",
    "os.listdir('https://minio.lab.sspcloud.fr/s3/jbrablx/ai_insurance/')"
   ]
  },
  {
   "cell_type": "code",
   "execution_count": 3,
   "metadata": {},
   "outputs": [
    {
     "ename": "NameError",
     "evalue": "name 'metrics_df' is not defined",
     "output_type": "error",
     "traceback": [
      "\u001b[0;31m---------------------------------------------------------------------------\u001b[0m",
      "\u001b[0;31mNameError\u001b[0m                                 Traceback (most recent call last)",
      "\u001b[1;32m/home/onyxia/work/ai_insurance/poc.ipynb Cell 18\u001b[0m line \u001b[0;36m1\n\u001b[0;32m----> <a href='vscode-notebook-cell://user-jbrablx-208411-0.user.lab.sspcloud.fr/home/onyxia/work/ai_insurance/poc.ipynb#X23sdnNjb2RlLXJlbW90ZQ%3D%3D?line=0'>1</a>\u001b[0m metrics_df\n",
      "\u001b[0;31mNameError\u001b[0m: name 'metrics_df' is not defined"
     ]
    }
   ],
   "source": [
    "metrics_df"
   ]
  },
  {
   "cell_type": "code",
   "execution_count": null,
   "metadata": {},
   "outputs": [],
   "source": [
    "print(\"Best parameters:\", grid_search.best_params_)\n",
    "print(\"Best score:\", grid_search.best_score_)"
   ]
  },
  {
   "cell_type": "code",
   "execution_count": null,
   "metadata": {},
   "outputs": [],
   "source": [
    "if show_roc:\n",
    "    st.pyplot()\n",
    ", show_roc=False, show_features_importance=False, show_tree=False\n",
    "\n",
    "st.table(metrics_df)\n",
    "st.text(\"Classification Report:\")\n",
    "st.markdown(classification_report_str)\n",
    "\n",
    "if hasattr(model_used, 'named_steps'):\n",
    "        # Assurez-vous d'accéder au modèle spécifique pour obtenir les importances des caractéristiques\n",
    "        specific_model = model_used.named_steps['model']\n",
    "if show_features_importance and hasattr(specific_model, 'feature_importances_'):\n",
    "if show_tree and hasattr(specific_model, 'estimators_'):\n",
    "\n",
    "train_model(model, X_train, y_train, preprocessor, method=None)\n",
    "\n",
    "model = get_model(model_name)\n",
    "specific_model = model.named_steps['model']\n",
    "\n",
    "y_proba, y_pred = predict_from_fitted_model(model, X_test, threshold)\n",
    "\n",
    "metrics_df, classif_report = get_metrics(model, y_test, y_pred, y_proba, threshold)\n",
    "top_importances, top_feature_names = get_feature_importance_names(specific_model, model)\n",
    "\n",
    "fig_roc = get_roc_auc(y_test, y_proba)\n",
    "fig_importance = plot_feature_importance(top_importances, top_feature_names)\n",
    "fig_tree = plot_model_tree(specific_model, model)"
   ]
  },
  {
   "cell_type": "code",
   "execution_count": null,
   "metadata": {},
   "outputs": [],
   "source": []
  },
  {
   "cell_type": "code",
   "execution_count": null,
   "metadata": {},
   "outputs": [],
   "source": []
  },
  {
   "cell_type": "code",
   "execution_count": null,
   "metadata": {},
   "outputs": [],
   "source": [
    "pd.DataFrame(grid_search.cv_results_).sort_values('rank_test_score')"
   ]
  },
  {
   "cell_type": "code",
   "execution_count": null,
   "metadata": {},
   "outputs": [],
   "source": []
  }
 ],
 "metadata": {
  "kernelspec": {
   "display_name": "base",
   "language": "python",
   "name": "python3"
  },
  "language_info": {
   "codemirror_mode": {
    "name": "ipython",
    "version": 3
   },
   "file_extension": ".py",
   "mimetype": "text/x-python",
   "name": "python",
   "nbconvert_exporter": "python",
   "pygments_lexer": "ipython3",
   "version": "3.11.6"
  }
 },
 "nbformat": 4,
 "nbformat_minor": 2
}
